{
 "cells": [
  {
   "cell_type": "code",
   "execution_count": 1,
   "metadata": {},
   "outputs": [
    {
     "name": "stdout",
     "output_type": "stream",
     "text": [
      "Found GPU at: /device:GPU:0\n"
     ]
    }
   ],
   "source": [
    "# GPU TEST\n",
    "\n",
    "import tensorflow as tf\n",
    "device_name = tf.test.gpu_device_name()\n",
    "if device_name != '/device:GPU:0':\n",
    "    raise SystemError('GPU device not found')\n",
    "print('Found GPU at: {}'.format(device_name))    "
   ]
  },
  {
   "cell_type": "code",
   "execution_count": 2,
   "metadata": {},
   "outputs": [
    {
     "name": "stderr",
     "output_type": "stream",
     "text": [
      "Using TensorFlow backend.\n"
     ]
    }
   ],
   "source": [
    "# Importing libraries\n",
    "import keras\n",
    "from keras.models import Sequential\n",
    "from keras.layers import Dense\n",
    "\n",
    "import pickle\n",
    "import gzip\n",
    "import numpy as np\n",
    "import pandas as pd"
   ]
  },
  {
   "cell_type": "code",
   "execution_count": 4,
   "metadata": {},
   "outputs": [],
   "source": [
    "# Loading Dataset\n",
    "\n",
    "with open('2016.04C.multisnr.pkl','rb') as f:\n",
    "    u = pickle._Unpickler(f)\n",
    "    u.encoding = 'latin1'\n",
    "    p = u.load()"
   ]
  },
  {
   "cell_type": "code",
   "execution_count": 5,
   "metadata": {},
   "outputs": [
    {
     "name": "stdout",
     "output_type": "stream",
     "text": [
      "(162060, 2, 128)\n",
      "One Sample : \n",
      "[[  -7.4243298   119.80825    -111.365616    -27.864609     49.59459\n",
      "   -92.436195    -14.834814    -65.57745      99.30878    -140.20377\n",
      "    -7.095288    160.27892     -29.569017    -46.14379     -83.981865\n",
      "   155.57481      77.53324      21.80493     -48.08874      13.995204\n",
      "    -9.42498     -77.13045      64.35481      51.588314    -10.118018\n",
      "    59.934288     -8.07665     160.57787     -12.06533     -14.046684\n",
      "     0.2559035   -34.061638    -62.329285    -37.375217    -20.721237\n",
      "    35.750698     67.44018     -27.084063   -133.1575       20.650501\n",
      "   -93.111984     46.712215     -7.806255    -56.23203      13.049609\n",
      "    88.614685     15.365943     25.646896     68.06521    -167.36864\n",
      "    65.36609     104.336044     40.968483     -2.8799818   -73.3598\n",
      "    60.49153      66.64653     -50.082237    -26.81676      94.32984\n",
      "   -59.568474     47.776936    -18.414425      2.6127734   140.26158\n",
      "   -55.305504     91.71414      35.363003     26.607727    -21.20901\n",
      "   -14.127247    -28.758183     52.048164     51.383488     39.377056\n",
      "  -123.89717      19.898214      6.247001     -7.23002    -129.59628\n",
      "    16.787441    -41.65105    -113.62081    -111.220764     75.4343\n",
      "    98.33584    -186.30652     -35.151043     -5.860277     11.016558\n",
      "   -30.569672      5.82972     -25.169289    -97.849945     27.576393\n",
      "   -74.62176      -2.4715657   -32.191856    -30.262772     27.43603\n",
      "   -12.282553    115.40876     206.4914       66.09195     -39.44139\n",
      "   141.64667     -86.9948      153.09734       9.337864    -11.083323\n",
      "    89.42813      41.226925     98.67345      65.46181      40.510544\n",
      "     9.7420635  -114.9896       59.91208     -71.21897     140.01804\n",
      "    68.525      -104.4119       82.68575       9.652107    -29.561686\n",
      "   -31.315722   -113.13201      40.65939   ]\n",
      " [ 167.00078     -21.273016     38.65764      -6.8282866   -57.695274\n",
      "    68.86412     107.330345     47.552097     29.709524    -39.23092\n",
      "    12.462088     -9.949671      7.4783106    18.972824    -12.808772\n",
      "    67.633316    -29.103151    -20.070566    -51.97744     141.00816\n",
      "    41.259205     -0.53856903    6.6250005   -43.925224     31.103895\n",
      "    53.926334    -49.36656     -20.647512     60.535015     38.67477\n",
      "    20.489979     66.109116     -6.660988   -143.35045      92.50412\n",
      "    12.260289     15.894047    -33.721985      4.958162    -77.55236\n",
      "   -28.78356      17.448458   -156.99731      46.477085     75.3186\n",
      "     5.517721    -28.463383     23.985146     13.697032     32.07361\n",
      "   -84.96232     -27.923908      7.316182    121.537544   -109.41055\n",
      "   -28.545713    196.12985     -19.010529    -24.389406     -6.263572\n",
      "    32.556026    -35.22897     -18.624535     55.108932     12.849184\n",
      "    23.583422     -3.1462991    49.74266      75.69544      34.91256\n",
      "    13.04851      21.796694    -60.853157    -10.895167   -110.862366\n",
      "   -55.53119      74.3123       -4.914749   -134.76338      68.62286\n",
      "   -35.385624     88.85091      72.25108    -114.920105    -36.134083\n",
      "    83.26045    -131.37288     -14.169214     63.75534     -41.43907\n",
      "    42.116547    -52.482567    141.72705     -89.87874      50.627182\n",
      "   -27.974552     40.75792     138.08913     -37.947388     -1.5724033\n",
      "   197.16936       2.0899055    41.80963      72.13531    -121.52855\n",
      "   -71.40363       3.718821     36.73658    -149.26796      -3.4894636\n",
      "    46.83889     -13.115942      5.852566   -134.46341     -13.281191\n",
      "   -80.60315      29.616896    -23.416965      6.471921    -23.06307\n",
      "    57.188274     85.360176    103.64513     -54.7609     -112.23817\n",
      "  -115.24621     -80.3968       48.018898  ]]\n"
     ]
    }
   ],
   "source": [
    "snrs,mods = map(lambda j: sorted(list(set(map(lambda x: x[j], p.keys())))), [1,0])\n",
    "X = []\n",
    "lbl = []\n",
    "for mod in mods:\n",
    "    for snr in snrs:\n",
    "        X.append(p[mod,snr])\n",
    "        for i in range(p[(mod,snr)].shape[0]): lbl.append((mod,snr))\n",
    "X = np.vstack(X)\n",
    "print(X.shape)\n",
    "print('One Sample : ')\n",
    "print(X[1])"
   ]
  },
  {
   "cell_type": "code",
   "execution_count": 6,
   "metadata": {},
   "outputs": [
    {
     "name": "stdout",
     "output_type": "stream",
     "text": [
      "keys:\n",
      "dict_keys([('QPSK', 2), ('PAM4', 8), ('AM-DSB', -4), ('GFSK', 6), ('QAM64', 8), ('AM-SSB', 12), ('PAM4', 18), ('QAM64', -6), ('QAM16', 2), ('QAM16', -20), ('8PSK', -18), ('PAM4', -6), ('WBFM', -18), ('BPSK', 8), ('CPFSK', 10), ('WBFM', 6), ('BPSK', 4), ('BPSK', -2), ('QPSK', -20), ('CPFSK', -8), ('AM-SSB', 6), ('QAM64', -20), ('QAM16', 12), ('GFSK', -20), ('AM-SSB', -12), ('CPFSK', 0), ('AM-DSB', 6), ('BPSK', -16), ('QPSK', -6), ('8PSK', -12), ('CPFSK', -18), ('AM-DSB', -18), ('QPSK', 8), ('PAM4', 14), ('WBFM', -8), ('AM-DSB', -10), ('GFSK', 12), ('QAM64', 2), ('8PSK', -10), ('AM-SSB', -18), ('QAM64', -4), ('GFSK', -4), ('AM-DSB', 8), ('PAM4', -16), ('QPSK', -16), ('BPSK', 16), ('WBFM', -14), ('CPFSK', 16), ('WBFM', 0), ('QPSK', 6), ('BPSK', 14), ('AM-DSB', -8), ('GFSK', -10), ('CPFSK', -2), ('AM-SSB', 8), ('QAM16', 8), ('QAM16', 6), ('QAM16', -16), ('QAM64', 18), ('AM-SSB', -2), ('CPFSK', 6), ('BPSK', 0), ('BPSK', -6), ('8PSK', -14), ('CPFSK', -12), ('AM-SSB', 2), ('WBFM', 10), ('BPSK', -20), ('PAM4', 4), ('GFSK', 10), ('QAM16', -6), ('QAM64', 4), ('PAM4', -20), ('8PSK', 10), ('AM-SSB', -16), ('QAM64', -10), ('GFSK', -6), ('AM-DSB', 2), ('PAM4', -10), ('QPSK', -2), ('8PSK', -8), ('8PSK', 0), ('QPSK', 12), ('8PSK', 12), ('AM-DSB', -14), ('GFSK', 0), ('QAM64', 14), ('AM-SSB', 18), ('QAM64', -8), ('QAM16', 0), ('GFSK', -16), ('WBFM', 2), ('PAM4', -4), ('QPSK', -12), ('WBFM', -20), ('CPFSK', 12), ('WBFM', 4), ('BPSK', 10), ('BPSK', -4), ('QPSK', -18), ('CPFSK', -6), ('AM-SSB', 4), ('BPSK', -12), ('8PSK', 16), ('QAM16', 10), ('QAM16', -12), ('WBFM', -6), ('8PSK', -20), ('AM-SSB', -6), ('CPFSK', 2), ('QPSK', 16), ('AM-DSB', 4), ('BPSK', -10), ('WBFM', -4), ('CPFSK', -16), ('WBFM', -16), ('QPSK', 10), ('PAM4', 0), ('AM-DSB', -12), ('GFSK', 14), ('QAM16', -2), ('QAM64', 0), ('WBFM', -10), ('AM-SSB', -20), ('QAM64', -14), ('GFSK', -2), ('AM-DSB', 14), ('PAM4', -14), ('QPSK', -14), ('8PSK', -4), ('CPFSK', 18), ('8PSK', 4), ('QPSK', 0), ('BPSK', 12), ('AM-DSB', -2), ('GFSK', 4), ('QAM64', 10), ('AM-SSB', 14), ('8PSK', 2), ('QAM16', -10), ('PAM4', 16), ('QAM16', 4), ('GFSK', 8), ('QAM16', -18), ('QAM64', 16), ('PAM4', -8), ('WBFM', 16), ('WBFM', 14), ('AM-SSB', -4), ('CPFSK', 8), ('BPSK', 6), ('BPSK', -8), ('CPFSK', -10), ('AM-SSB', 0), ('PAM4', 6), ('QAM64', -18), ('QAM16', 14), ('QAM16', -8), ('PAM4', -18), ('AM-DSB', 18), ('AM-SSB', -10), ('QAM64', -12), ('AM-DSB', 0), ('BPSK', -14), ('QPSK', -8), ('8PSK', -6), ('CPFSK', -20), ('GFSK', 16), ('WBFM', 8), ('QPSK', 14), ('PAM4', 12), ('AM-DSB', -16), ('GFSK', 2), ('BPSK', -18), ('QAM64', 12), ('AM-SSB', 16), ('AM-SSB', -14), ('QAM64', -2), ('8PSK', 14), ('GFSK', -14), ('BPSK', 18), ('PAM4', -2), ('QPSK', -10), ('CPFSK', 14), ('8PSK', 8), ('QPSK', 4), ('AM-DSB', 16), ('AM-DSB', -6), ('CPFSK', -4), ('AM-SSB', 10), ('WBFM', -2), ('8PSK', 18), ('GFSK', 18), ('QAM16', -14), ('AM-DSB', 10), ('WBFM', -12), ('AM-SSB', -8), ('CPFSK', 4), ('QPSK', 18), ('BPSK', 2), ('AM-DSB', -20), ('8PSK', -16), ('CPFSK', -14), ('WBFM', 18), ('PAM4', 2), ('QAM16', 18), ('QAM16', -4), ('QAM64', 6), ('GFSK', -18), ('PAM4', 10), ('QAM64', -16), ('QAM16', 16), ('GFSK', -8), ('AM-DSB', 12), ('PAM4', -12), ('QPSK', -4), ('8PSK', -2), ('GFSK', -12), ('8PSK', 6), ('WBFM', 12)])\n"
     ]
    }
   ],
   "source": [
    "print('keys:')\n",
    "print(p.keys())"
   ]
  },
  {
   "cell_type": "code",
   "execution_count": 7,
   "metadata": {},
   "outputs": [
    {
     "data": {
      "text/plain": [
       "(162060, 2, 128)"
      ]
     },
     "execution_count": 7,
     "metadata": {},
     "output_type": "execute_result"
    }
   ],
   "source": [
    "X.shape"
   ]
  },
  {
   "cell_type": "code",
   "execution_count": null,
   "metadata": {},
   "outputs": [],
   "source": []
  },
  {
   "cell_type": "code",
   "execution_count": null,
   "metadata": {},
   "outputs": [],
   "source": [
    "res_final = np.array(res)"
   ]
  },
  {
   "cell_type": "code",
   "execution_count": null,
   "metadata": {},
   "outputs": [],
   "source": [
    "res_final"
   ]
  },
  {
   "cell_type": "code",
   "execution_count": null,
   "metadata": {},
   "outputs": [],
   "source": [
    "res_final.shape"
   ]
  },
  {
   "cell_type": "code",
   "execution_count": 8,
   "metadata": {},
   "outputs": [
    {
     "data": {
      "text/plain": [
       "array([  24.714563  ,  -29.568644  ,   92.68012   ,   -0.6211241 ,\n",
       "         33.062744  ,   -6.2919946 ,   -5.9258704 , -131.96852   ,\n",
       "        -69.56522   ,   44.74652   ,  -89.15495   , -101.97785   ,\n",
       "        -18.323557  ,  -30.385767  ,    1.9968935 ,  -61.500935  ,\n",
       "         37.332264  ,  -28.064968  ,   59.465668  ,  -46.179398  ,\n",
       "        -26.009663  ,  -52.362324  ,   61.56313   ,   65.796425  ,\n",
       "         65.44162   ,   30.869577  ,   43.397816  ,   73.950745  ,\n",
       "        -33.643257  ,   -0.21010807,   96.22332   ,   15.490614  ,\n",
       "         41.540924  ,   16.351875  ,  -22.676212  ,   68.52634   ,\n",
       "        -31.446701  ,  -41.51053   ,   47.405647  ,   55.173832  ,\n",
       "         33.460255  ,  -33.191044  ,  -20.125128  ,  104.928314  ,\n",
       "         26.355001  ,  -81.8093    ,   44.091236  , -119.93215   ,\n",
       "        -24.723804  ,   24.986504  ,  -50.097115  ,  128.2814    ,\n",
       "          9.491681  ,  -94.38004   ,   15.686162  ,   -6.078274  ,\n",
       "        -73.28054   ,    1.6340322 , -129.16805   ,   23.974726  ,\n",
       "         35.450947  ,  -39.942394  ,  -69.48315   ,  -26.419573  ,\n",
       "         -7.4243298 ,  119.80825   , -111.365616  ,  -27.864609  ,\n",
       "         49.59459   ,  -92.436195  ,  -14.834814  ,  -65.57745   ,\n",
       "         99.30878   , -140.20377   ,   -7.095288  ,  160.27892   ,\n",
       "        -29.569017  ,  -46.14379   ,  -83.981865  ,  155.57481   ,\n",
       "         77.53324   ,   21.80493   ,  -48.08874   ,   13.995204  ,\n",
       "         -9.42498   ,  -77.13045   ,   64.35481   ,   51.588314  ,\n",
       "        -10.118018  ,   59.934288  ,   -8.07665   ,  160.57787   ,\n",
       "        -12.06533   ,  -14.046684  ,    0.2559035 ,  -34.061638  ,\n",
       "        -62.329285  ,  -37.375217  ,  -20.721237  ,   35.750698  ,\n",
       "         67.44018   ,  -27.084063  , -133.1575    ,   20.650501  ,\n",
       "        -93.111984  ,   46.712215  ,   -7.806255  ,  -56.23203   ,\n",
       "         13.049609  ,   88.614685  ,   15.365943  ,   25.646896  ,\n",
       "         68.06521   , -167.36864   ,   65.36609   ,  104.336044  ,\n",
       "         40.968483  ,   -2.8799818 ,  -73.3598    ,   60.49153   ,\n",
       "         66.64653   ,  -50.082237  ,  -26.81676   ,   94.32984   ,\n",
       "        -59.568474  ,   47.776936  ,  -18.414425  ,    2.6127734 ],\n",
       "      dtype=float32)"
      ]
     },
     "execution_count": 8,
     "metadata": {},
     "output_type": "execute_result"
    }
   ],
   "source": [
    "X[0][0]"
   ]
  },
  {
   "cell_type": "code",
   "execution_count": null,
   "metadata": {},
   "outputs": [],
   "source": [
    "X_final_1 = np.reshape(res_final, (162060,2,128))\n",
    "X_final_1.shape"
   ]
  },
  {
   "cell_type": "code",
   "execution_count": 9,
   "metadata": {},
   "outputs": [],
   "source": [
    "import os,random\n",
    "import numpy as np\n",
    "from keras.utils import np_utils\n",
    "import keras.models as models\n",
    "from keras.layers.core import Reshape,Dense,Dropout,Activation,Flatten\n",
    "from keras.layers.noise import GaussianNoise,AlphaDropout\n",
    "from keras.layers.convolutional import Conv2D, MaxPooling2D, ZeroPadding2D, AveragePooling2D\n",
    "from keras.layers import LSTM\n",
    "from keras.regularizers import *\n",
    "from keras.optimizers import adam\n",
    "import matplotlib.pyplot as plt\n",
    "import seaborn as sns\n",
    "import pickle, random, sys, keras"
   ]
  },
  {
   "cell_type": "code",
   "execution_count": 10,
   "metadata": {},
   "outputs": [],
   "source": [
    "# Partition the data\n",
    "#  into training and test sets of the form we can train/test on \n",
    "#  while keeping SNR and Mod labels handy for each\n",
    "np.random.seed(2016)\n",
    "n_examples = X.shape[0]\n",
    "n_train = n_examples * 0.8\n",
    "train_idx = np.random.choice(range(0,n_examples), size= int(n_train), replace=False)\n",
    "test_idx = list(set(range(0,n_examples))-set(train_idx))\n",
    "#changed from x to combined data\n",
    "#X_train = combined_Data[train_idx]\n",
    "#X_test =  combined_Data[test_idx]\n",
    "X_train = X[train_idx]\n",
    "X_test =  X[test_idx]"
   ]
  },
  {
   "cell_type": "code",
   "execution_count": 11,
   "metadata": {},
   "outputs": [],
   "source": [
    "def to_onehot(yy):\n",
    "    yy1 = np.zeros([len(yy), max(yy)+1])\n",
    "    yy1[np.arange(len(yy)),yy] = 1\n",
    "    return yy1 \n",
    "Y_train = to_onehot(list(map(lambda x: mods.index(lbl[x][0]), train_idx)))\n",
    "Y_test = to_onehot(list(map(lambda x: mods.index(lbl[x][0]), test_idx)))"
   ]
  },
  {
   "cell_type": "code",
   "execution_count": 29,
   "metadata": {},
   "outputs": [
    {
     "name": "stdout",
     "output_type": "stream",
     "text": [
      "(129648, 2, 128) [2, 128]\n"
     ]
    }
   ],
   "source": [
    "in_shp = list(X_train.shape[1:])\n",
    "print (X_train.shape, in_shp)\n",
    "classes = mods"
   ]
  },
  {
   "cell_type": "code",
   "execution_count": 30,
   "metadata": {},
   "outputs": [],
   "source": [
    "# Set up some params\n",
    "nb_epoch = 100 # number of epochs to train on\n",
    "batch_size = 500 # training batch size"
   ]
  },
  {
   "cell_type": "code",
   "execution_count": 31,
   "metadata": {},
   "outputs": [
    {
     "ename": "ValueError",
     "evalue": "Input 0 is incompatible with layer lstm_6: expected ndim=3, found ndim=4",
     "output_type": "error",
     "traceback": [
      "\u001b[1;31m---------------------------------------------------------------------------\u001b[0m",
      "\u001b[1;31mValueError\u001b[0m                                Traceback (most recent call last)",
      "\u001b[1;32m<ipython-input-31-5a84beefd19f>\u001b[0m in \u001b[0;36m<module>\u001b[1;34m\u001b[0m\n\u001b[0;32m     22\u001b[0m cnn.add(LSTM(50,\n\u001b[0;32m     23\u001b[0m                \u001b[0minput_shape\u001b[0m\u001b[1;33m=\u001b[0m\u001b[0mX_train\u001b[0m\u001b[1;33m.\u001b[0m\u001b[0mshape\u001b[0m\u001b[1;33m,\u001b[0m\u001b[1;33m\u001b[0m\u001b[1;33m\u001b[0m\u001b[0m\n\u001b[1;32m---> 24\u001b[1;33m                return_sequences=True))\n\u001b[0m\u001b[0;32m     25\u001b[0m \u001b[1;31m#cnn.add(AveragePooling2D((1,2),padding=\"valid\"))\u001b[0m\u001b[1;33m\u001b[0m\u001b[1;33m\u001b[0m\u001b[1;33m\u001b[0m\u001b[0m\n\u001b[0;32m     26\u001b[0m \u001b[0mcnn\u001b[0m\u001b[1;33m.\u001b[0m\u001b[0madd\u001b[0m\u001b[1;33m(\u001b[0m\u001b[0mFlatten\u001b[0m\u001b[1;33m(\u001b[0m\u001b[1;33m)\u001b[0m\u001b[1;33m)\u001b[0m\u001b[1;33m\u001b[0m\u001b[1;33m\u001b[0m\u001b[0m\n",
      "\u001b[1;32m~\\Anaconda3\\lib\\site-packages\\keras\\engine\\sequential.py\u001b[0m in \u001b[0;36madd\u001b[1;34m(self, layer)\u001b[0m\n\u001b[0;32m    180\u001b[0m                 \u001b[0mself\u001b[0m\u001b[1;33m.\u001b[0m\u001b[0minputs\u001b[0m \u001b[1;33m=\u001b[0m \u001b[0mnetwork\u001b[0m\u001b[1;33m.\u001b[0m\u001b[0mget_source_inputs\u001b[0m\u001b[1;33m(\u001b[0m\u001b[0mself\u001b[0m\u001b[1;33m.\u001b[0m\u001b[0moutputs\u001b[0m\u001b[1;33m[\u001b[0m\u001b[1;36m0\u001b[0m\u001b[1;33m]\u001b[0m\u001b[1;33m)\u001b[0m\u001b[1;33m\u001b[0m\u001b[1;33m\u001b[0m\u001b[0m\n\u001b[0;32m    181\u001b[0m         \u001b[1;32melif\u001b[0m \u001b[0mself\u001b[0m\u001b[1;33m.\u001b[0m\u001b[0moutputs\u001b[0m\u001b[1;33m:\u001b[0m\u001b[1;33m\u001b[0m\u001b[1;33m\u001b[0m\u001b[0m\n\u001b[1;32m--> 182\u001b[1;33m             \u001b[0moutput_tensor\u001b[0m \u001b[1;33m=\u001b[0m \u001b[0mlayer\u001b[0m\u001b[1;33m(\u001b[0m\u001b[0mself\u001b[0m\u001b[1;33m.\u001b[0m\u001b[0moutputs\u001b[0m\u001b[1;33m[\u001b[0m\u001b[1;36m0\u001b[0m\u001b[1;33m]\u001b[0m\u001b[1;33m)\u001b[0m\u001b[1;33m\u001b[0m\u001b[1;33m\u001b[0m\u001b[0m\n\u001b[0m\u001b[0;32m    183\u001b[0m             \u001b[1;32mif\u001b[0m \u001b[0misinstance\u001b[0m\u001b[1;33m(\u001b[0m\u001b[0moutput_tensor\u001b[0m\u001b[1;33m,\u001b[0m \u001b[0mlist\u001b[0m\u001b[1;33m)\u001b[0m\u001b[1;33m:\u001b[0m\u001b[1;33m\u001b[0m\u001b[1;33m\u001b[0m\u001b[0m\n\u001b[0;32m    184\u001b[0m                 raise TypeError('All layers in a Sequential model '\n",
      "\u001b[1;32m~\\Anaconda3\\lib\\site-packages\\keras\\layers\\recurrent.py\u001b[0m in \u001b[0;36m__call__\u001b[1;34m(self, inputs, initial_state, constants, **kwargs)\u001b[0m\n\u001b[0;32m    539\u001b[0m \u001b[1;33m\u001b[0m\u001b[0m\n\u001b[0;32m    540\u001b[0m         \u001b[1;32mif\u001b[0m \u001b[0minitial_state\u001b[0m \u001b[1;32mis\u001b[0m \u001b[1;32mNone\u001b[0m \u001b[1;32mand\u001b[0m \u001b[0mconstants\u001b[0m \u001b[1;32mis\u001b[0m \u001b[1;32mNone\u001b[0m\u001b[1;33m:\u001b[0m\u001b[1;33m\u001b[0m\u001b[1;33m\u001b[0m\u001b[0m\n\u001b[1;32m--> 541\u001b[1;33m             \u001b[1;32mreturn\u001b[0m \u001b[0msuper\u001b[0m\u001b[1;33m(\u001b[0m\u001b[0mRNN\u001b[0m\u001b[1;33m,\u001b[0m \u001b[0mself\u001b[0m\u001b[1;33m)\u001b[0m\u001b[1;33m.\u001b[0m\u001b[0m__call__\u001b[0m\u001b[1;33m(\u001b[0m\u001b[0minputs\u001b[0m\u001b[1;33m,\u001b[0m \u001b[1;33m**\u001b[0m\u001b[0mkwargs\u001b[0m\u001b[1;33m)\u001b[0m\u001b[1;33m\u001b[0m\u001b[1;33m\u001b[0m\u001b[0m\n\u001b[0m\u001b[0;32m    542\u001b[0m \u001b[1;33m\u001b[0m\u001b[0m\n\u001b[0;32m    543\u001b[0m         \u001b[1;31m# If any of `initial_state` or `constants` are specified and are Keras\u001b[0m\u001b[1;33m\u001b[0m\u001b[1;33m\u001b[0m\u001b[1;33m\u001b[0m\u001b[0m\n",
      "\u001b[1;32m~\\Anaconda3\\lib\\site-packages\\keras\\backend\\tensorflow_backend.py\u001b[0m in \u001b[0;36msymbolic_fn_wrapper\u001b[1;34m(*args, **kwargs)\u001b[0m\n\u001b[0;32m     73\u001b[0m         \u001b[1;32mif\u001b[0m \u001b[0m_SYMBOLIC_SCOPE\u001b[0m\u001b[1;33m.\u001b[0m\u001b[0mvalue\u001b[0m\u001b[1;33m:\u001b[0m\u001b[1;33m\u001b[0m\u001b[1;33m\u001b[0m\u001b[0m\n\u001b[0;32m     74\u001b[0m             \u001b[1;32mwith\u001b[0m \u001b[0mget_graph\u001b[0m\u001b[1;33m(\u001b[0m\u001b[1;33m)\u001b[0m\u001b[1;33m.\u001b[0m\u001b[0mas_default\u001b[0m\u001b[1;33m(\u001b[0m\u001b[1;33m)\u001b[0m\u001b[1;33m:\u001b[0m\u001b[1;33m\u001b[0m\u001b[1;33m\u001b[0m\u001b[0m\n\u001b[1;32m---> 75\u001b[1;33m                 \u001b[1;32mreturn\u001b[0m \u001b[0mfunc\u001b[0m\u001b[1;33m(\u001b[0m\u001b[1;33m*\u001b[0m\u001b[0margs\u001b[0m\u001b[1;33m,\u001b[0m \u001b[1;33m**\u001b[0m\u001b[0mkwargs\u001b[0m\u001b[1;33m)\u001b[0m\u001b[1;33m\u001b[0m\u001b[1;33m\u001b[0m\u001b[0m\n\u001b[0m\u001b[0;32m     76\u001b[0m         \u001b[1;32melse\u001b[0m\u001b[1;33m:\u001b[0m\u001b[1;33m\u001b[0m\u001b[1;33m\u001b[0m\u001b[0m\n\u001b[0;32m     77\u001b[0m             \u001b[1;32mreturn\u001b[0m \u001b[0mfunc\u001b[0m\u001b[1;33m(\u001b[0m\u001b[1;33m*\u001b[0m\u001b[0margs\u001b[0m\u001b[1;33m,\u001b[0m \u001b[1;33m**\u001b[0m\u001b[0mkwargs\u001b[0m\u001b[1;33m)\u001b[0m\u001b[1;33m\u001b[0m\u001b[1;33m\u001b[0m\u001b[0m\n",
      "\u001b[1;32m~\\Anaconda3\\lib\\site-packages\\keras\\engine\\base_layer.py\u001b[0m in \u001b[0;36m__call__\u001b[1;34m(self, inputs, **kwargs)\u001b[0m\n\u001b[0;32m    444\u001b[0m                 \u001b[1;31m# Raise exceptions in case the input is not compatible\u001b[0m\u001b[1;33m\u001b[0m\u001b[1;33m\u001b[0m\u001b[1;33m\u001b[0m\u001b[0m\n\u001b[0;32m    445\u001b[0m                 \u001b[1;31m# with the input_spec specified in the layer constructor.\u001b[0m\u001b[1;33m\u001b[0m\u001b[1;33m\u001b[0m\u001b[1;33m\u001b[0m\u001b[0m\n\u001b[1;32m--> 446\u001b[1;33m                 \u001b[0mself\u001b[0m\u001b[1;33m.\u001b[0m\u001b[0massert_input_compatibility\u001b[0m\u001b[1;33m(\u001b[0m\u001b[0minputs\u001b[0m\u001b[1;33m)\u001b[0m\u001b[1;33m\u001b[0m\u001b[1;33m\u001b[0m\u001b[0m\n\u001b[0m\u001b[0;32m    447\u001b[0m \u001b[1;33m\u001b[0m\u001b[0m\n\u001b[0;32m    448\u001b[0m                 \u001b[1;31m# Collect input shapes to build layer.\u001b[0m\u001b[1;33m\u001b[0m\u001b[1;33m\u001b[0m\u001b[1;33m\u001b[0m\u001b[0m\n",
      "\u001b[1;32m~\\Anaconda3\\lib\\site-packages\\keras\\engine\\base_layer.py\u001b[0m in \u001b[0;36massert_input_compatibility\u001b[1;34m(self, inputs)\u001b[0m\n\u001b[0;32m    340\u001b[0m                                      \u001b[0mself\u001b[0m\u001b[1;33m.\u001b[0m\u001b[0mname\u001b[0m \u001b[1;33m+\u001b[0m \u001b[1;34m': expected ndim='\u001b[0m \u001b[1;33m+\u001b[0m\u001b[1;33m\u001b[0m\u001b[1;33m\u001b[0m\u001b[0m\n\u001b[0;32m    341\u001b[0m                                      \u001b[0mstr\u001b[0m\u001b[1;33m(\u001b[0m\u001b[0mspec\u001b[0m\u001b[1;33m.\u001b[0m\u001b[0mndim\u001b[0m\u001b[1;33m)\u001b[0m \u001b[1;33m+\u001b[0m \u001b[1;34m', found ndim='\u001b[0m \u001b[1;33m+\u001b[0m\u001b[1;33m\u001b[0m\u001b[1;33m\u001b[0m\u001b[0m\n\u001b[1;32m--> 342\u001b[1;33m                                      str(K.ndim(x)))\n\u001b[0m\u001b[0;32m    343\u001b[0m             \u001b[1;32mif\u001b[0m \u001b[0mspec\u001b[0m\u001b[1;33m.\u001b[0m\u001b[0mmax_ndim\u001b[0m \u001b[1;32mis\u001b[0m \u001b[1;32mnot\u001b[0m \u001b[1;32mNone\u001b[0m\u001b[1;33m:\u001b[0m\u001b[1;33m\u001b[0m\u001b[1;33m\u001b[0m\u001b[0m\n\u001b[0;32m    344\u001b[0m                 \u001b[0mndim\u001b[0m \u001b[1;33m=\u001b[0m \u001b[0mK\u001b[0m\u001b[1;33m.\u001b[0m\u001b[0mndim\u001b[0m\u001b[1;33m(\u001b[0m\u001b[0mx\u001b[0m\u001b[1;33m)\u001b[0m\u001b[1;33m\u001b[0m\u001b[1;33m\u001b[0m\u001b[0m\n",
      "\u001b[1;31mValueError\u001b[0m: Input 0 is incompatible with layer lstm_6: expected ndim=3, found ndim=4"
     ]
    }
   ],
   "source": [
    "import keras.models as models\n",
    "\n",
    "#drop_rate_1 = 0.5 # dropout rate (%)\n",
    "\n",
    "cnn = keras.models.Sequential()\n",
    "cnn.add(Reshape(in_shp+[1], input_shape=in_shp))\n",
    "#cnn.add(ZeroPadding2D((0, 2)))\n",
    "\n",
    "cnn.add(Conv2D(256, (1, 3),padding='valid', activation=\"relu\", name=\"conv1\",kernel_initializer='glorot_uniform',data_format=\"channels_last\"))\n",
    "#cnn.add(Dropout(drop_rate_1))\n",
    "#cnn.add(AveragePooling2D((1,2),padding=\"valid\"))\n",
    "#cnn.add(ZeroPadding2D((0,2)))\n",
    "\n",
    "cnn.add(Conv2D(256,(2, 3), padding='valid', activation=\"relu\", name=\"conv2\", kernel_initializer='glorot_uniform',data_format=\"channels_last\"))\n",
    "#cnn.add(Dropout(drop_rate_1))\n",
    "\n",
    "cnn.add(Conv2D(80,(1,3), padding='valid', activation=\"relu\", name=\"conv3\", kernel_initializer='glorot_uniform',data_format=\"channels_last\"))\n",
    "#cnn.add(Dropout(drop_rate_1))\n",
    "cnn.add(Conv2D(80,(1,3), padding='valid', activation=\"relu\", name=\"conv4\", kernel_initializer='glorot_uniform',data_format=\"channels_last\"))\n",
    "#cnn.add(Reshape(in_shp-[1], input_shape=in_shp))\n",
    "\n",
    "#cnn.add(LSTM(50,\n",
    "               input_shape=X_train.shape,\n",
    "               return_sequences=True))\n",
    "#cnn.add(AveragePooling2D((1,2),padding=\"valid\"))\n",
    "cnn.add(Flatten())\n",
    "#cnn.add(GaussianNoise(0.001))\n",
    "\n",
    "cnn.add(Dense(128, activation = 'relu', kernel_initializer = 'he_normal'))\n",
    "#cnn.add(Dense(256, activation = 'relu', kernel_initializer = 'he_normal'))\n",
    "#cnn.add(Dense(64, activation = 'relu', kernel_initializer = 'he_normal'))\n",
    "cnn.add(Dense(len(classes), kernel_initializer = 'he_normal'))\n",
    "cnn.add(Activation('softmax'))\n",
    "cnn.add(Reshape([len(classes)]))\n",
    "cnn.compile(loss='categorical_crossentropy', optimizer='adam', metrics=['accuracy'])\n",
    "print(cnn.summary())"
   ]
  },
  {
   "cell_type": "code",
   "execution_count": 15,
   "metadata": {},
   "outputs": [
    {
     "name": "stdout",
     "output_type": "stream",
     "text": [
      "Train on 90753 samples, validate on 38895 samples\n",
      "Epoch 1/100\n",
      " - 54s - loss: 1.7252 - accuracy: 0.3684 - val_loss: 1.2820 - val_accuracy: 0.5060\n",
      "Epoch 2/100\n",
      " - 35s - loss: 1.1081 - accuracy: 0.5845 - val_loss: 1.0357 - val_accuracy: 0.6103\n",
      "Epoch 3/100\n",
      " - 35s - loss: 0.9735 - accuracy: 0.6322 - val_loss: 0.9806 - val_accuracy: 0.6290\n",
      "Epoch 4/100\n",
      " - 35s - loss: 0.9211 - accuracy: 0.6528 - val_loss: 0.9564 - val_accuracy: 0.6441\n",
      "Epoch 5/100\n",
      " - 35s - loss: 0.8723 - accuracy: 0.6727 - val_loss: 0.9552 - val_accuracy: 0.6402\n",
      "Epoch 6/100\n",
      " - 35s - loss: 0.8109 - accuracy: 0.6984 - val_loss: 0.9671 - val_accuracy: 0.6509\n",
      "Epoch 7/100\n",
      " - 35s - loss: 0.7587 - accuracy: 0.7186 - val_loss: 0.9627 - val_accuracy: 0.6514\n",
      "Epoch 8/100\n",
      " - 35s - loss: 0.6726 - accuracy: 0.7507 - val_loss: 1.0582 - val_accuracy: 0.6526\n",
      "Epoch 9/100\n",
      " - 35s - loss: 0.5873 - accuracy: 0.7814 - val_loss: 1.1450 - val_accuracy: 0.6491\n",
      "Epoch 10/100\n",
      " - 35s - loss: 0.4976 - accuracy: 0.8160 - val_loss: 1.2377 - val_accuracy: 0.6437\n",
      "Epoch 11/100\n",
      " - 35s - loss: 0.4299 - accuracy: 0.8410 - val_loss: 1.4467 - val_accuracy: 0.6425\n",
      "Epoch 12/100\n",
      " - 35s - loss: 0.3584 - accuracy: 0.8673 - val_loss: 1.6815 - val_accuracy: 0.6440\n",
      "Epoch 13/100\n",
      " - 35s - loss: 0.3217 - accuracy: 0.8801 - val_loss: 1.7521 - val_accuracy: 0.6423\n",
      "Epoch 14/100\n",
      " - 35s - loss: 0.2669 - accuracy: 0.8997 - val_loss: 1.9431 - val_accuracy: 0.6413\n",
      "Epoch 15/100\n",
      " - 35s - loss: 0.2716 - accuracy: 0.9018 - val_loss: 2.1795 - val_accuracy: 0.6427\n"
     ]
    }
   ],
   "source": [
    "# perform training ...\n",
    "#   - call the main training loop in keras for our network+dataset\n",
    "filepath = 'convmod_SEP_CNNnew01_0.5.wts.h5'\n",
    "HIS = cnn.fit(X_train,\n",
    "    Y_train,\n",
    "    batch_size=batch_size,\n",
    "    epochs=nb_epoch,\n",
    "    verbose=2,\n",
    "     validation_split=0.3,\n",
    "    callbacks = [\n",
    "        keras.callbacks.ModelCheckpoint(filepath, monitor='val_loss', verbose=0, save_best_only=True, mode='auto'),\n",
    "        keras.callbacks.EarlyStopping(monitor='val_loss', patience=10, verbose=0, mode='auto')\n",
    "    ])\n",
    "# we re-load the best weights once training is finished\n",
    "cnn.load_weights(filepath)"
   ]
  },
  {
   "cell_type": "code",
   "execution_count": 16,
   "metadata": {},
   "outputs": [
    {
     "name": "stdout",
     "output_type": "stream",
     "text": [
      "32412/32412 [==============================] - 4s 134us/step\n",
      "['loss', 'accuracy']\n",
      "[0.9535517596044787, 0.6383129954338074]\n"
     ]
    }
   ],
   "source": [
    "scscore = cnn.evaluate(X_test, Y_test, batch_size=batch_size)\n",
    "print(cnn.metrics_names)\n",
    "print (scscore)"
   ]
  },
  {
   "cell_type": "code",
   "execution_count": 17,
   "metadata": {},
   "outputs": [
    {
     "ename": "KeyboardInterrupt",
     "evalue": "",
     "output_type": "error",
     "traceback": [
      "\u001b[1;31m---------------------------------------------------------------------------\u001b[0m",
      "\u001b[1;31mKeyboardInterrupt\u001b[0m                         Traceback (most recent call last)",
      "\u001b[1;32m<ipython-input-17-b82d1f956acb>\u001b[0m in \u001b[0;36m<module>\u001b[1;34m\u001b[0m\n\u001b[0;32m     18\u001b[0m     \u001b[0mres\u001b[0m\u001b[1;33m.\u001b[0m\u001b[0mappend\u001b[0m\u001b[1;33m(\u001b[0m\u001b[0my2\u001b[0m\u001b[1;33m)\u001b[0m\u001b[1;33m\u001b[0m\u001b[1;33m\u001b[0m\u001b[0m\n\u001b[0;32m     19\u001b[0m     \u001b[1;32mfor\u001b[0m \u001b[0mi\u001b[0m \u001b[1;32min\u001b[0m \u001b[0mrange\u001b[0m \u001b[1;33m(\u001b[0m\u001b[1;36m2\u001b[0m\u001b[1;33m,\u001b[0m\u001b[1;36m126\u001b[0m\u001b[1;33m)\u001b[0m\u001b[1;33m:\u001b[0m\u001b[1;33m\u001b[0m\u001b[1;33m\u001b[0m\u001b[0m\n\u001b[1;32m---> 20\u001b[1;33m         \u001b[0my3\u001b[0m \u001b[1;33m=\u001b[0m \u001b[1;33m(\u001b[0m\u001b[1;33m(\u001b[0m\u001b[0mX\u001b[0m\u001b[1;33m[\u001b[0m\u001b[0mj\u001b[0m\u001b[1;33m]\u001b[0m\u001b[1;33m[\u001b[0m\u001b[1;36m0\u001b[0m\u001b[1;33m]\u001b[0m\u001b[1;33m[\u001b[0m\u001b[0mi\u001b[0m\u001b[1;33m-\u001b[0m\u001b[1;36m2\u001b[0m\u001b[1;33m]\u001b[0m \u001b[1;33m+\u001b[0m \u001b[0mX\u001b[0m\u001b[1;33m[\u001b[0m\u001b[0mj\u001b[0m\u001b[1;33m]\u001b[0m\u001b[1;33m[\u001b[0m\u001b[1;36m0\u001b[0m\u001b[1;33m]\u001b[0m\u001b[1;33m[\u001b[0m\u001b[0mi\u001b[0m\u001b[1;33m-\u001b[0m\u001b[1;36m1\u001b[0m\u001b[1;33m]\u001b[0m \u001b[1;33m+\u001b[0m \u001b[0mX\u001b[0m\u001b[1;33m[\u001b[0m\u001b[0mj\u001b[0m\u001b[1;33m]\u001b[0m\u001b[1;33m[\u001b[0m\u001b[1;36m0\u001b[0m\u001b[1;33m]\u001b[0m\u001b[1;33m[\u001b[0m\u001b[0mi\u001b[0m\u001b[1;33m]\u001b[0m \u001b[1;33m+\u001b[0m \u001b[0mX\u001b[0m\u001b[1;33m[\u001b[0m\u001b[0mj\u001b[0m\u001b[1;33m]\u001b[0m\u001b[1;33m[\u001b[0m\u001b[1;36m0\u001b[0m\u001b[1;33m]\u001b[0m\u001b[1;33m[\u001b[0m\u001b[0mi\u001b[0m\u001b[1;33m+\u001b[0m\u001b[1;36m1\u001b[0m\u001b[1;33m]\u001b[0m \u001b[1;33m+\u001b[0m \u001b[0mX\u001b[0m\u001b[1;33m[\u001b[0m\u001b[0mj\u001b[0m\u001b[1;33m]\u001b[0m\u001b[1;33m[\u001b[0m\u001b[1;36m0\u001b[0m\u001b[1;33m]\u001b[0m\u001b[1;33m[\u001b[0m\u001b[0mi\u001b[0m\u001b[1;33m+\u001b[0m\u001b[1;36m2\u001b[0m\u001b[1;33m]\u001b[0m\u001b[1;33m)\u001b[0m\u001b[1;33m/\u001b[0m\u001b[1;36m5\u001b[0m\u001b[1;33m)\u001b[0m\u001b[1;33m\u001b[0m\u001b[1;33m\u001b[0m\u001b[0m\n\u001b[0m\u001b[0;32m     21\u001b[0m         \u001b[0mres\u001b[0m\u001b[1;33m.\u001b[0m\u001b[0mappend\u001b[0m\u001b[1;33m(\u001b[0m\u001b[0my3\u001b[0m\u001b[1;33m)\u001b[0m\u001b[1;33m\u001b[0m\u001b[1;33m\u001b[0m\u001b[0m\n\u001b[0;32m     22\u001b[0m     \u001b[0my4\u001b[0m \u001b[1;33m=\u001b[0m \u001b[0mX\u001b[0m\u001b[1;33m[\u001b[0m\u001b[0mj\u001b[0m\u001b[1;33m]\u001b[0m\u001b[1;33m[\u001b[0m\u001b[1;36m0\u001b[0m\u001b[1;33m]\u001b[0m\u001b[1;33m[\u001b[0m\u001b[1;36m126\u001b[0m\u001b[1;33m]\u001b[0m\u001b[1;33m\u001b[0m\u001b[1;33m\u001b[0m\u001b[0m\n",
      "\u001b[1;31mKeyboardInterrupt\u001b[0m: "
     ]
    }
   ],
   "source": [
    "window_size = 5 \n",
    "res = []\n",
    "y1 = []\n",
    "y2 = []\n",
    "y3 = []\n",
    "y4 = []\n",
    "y5 = []\n",
    "y6 = []\n",
    "y7 = []\n",
    "y8 = []\n",
    "y9 = []\n",
    "y10 = []\n",
    "#j = 0\n",
    "for j in range (0,162060):\n",
    "    y1 = X[j][0][0]\n",
    "    y2 = X[j][0][1]\n",
    "    res.append(y1)\n",
    "    res.append(y2)    \n",
    "    for i in range (2,126):\n",
    "        y3 = ((X[j][0][i-2] + X[j][0][i-1] + X[j][0][i] + X[j][0][i+1] + X[j][0][i+2])/5)\n",
    "        res.append(y3)    \n",
    "    y4 = X[j][0][126]\n",
    "    y5 = X[j][0][127]\n",
    "    res.append(y4)    \n",
    "    res.append(y5)\n",
    "    y6 = X[j][1][0]\n",
    "    y7 = X[j][1][1]\n",
    "    res.append(y6)\n",
    "    res.append(y7)    \n",
    "    for i in range (2,126):\n",
    "        y8 = ((X[j][1][i-2] + X[j][1][i-1] + X[j][1][i] + X[j][1][i+1] + X[j][1][i+2])/5)\n",
    "        res.append(y8)    \n",
    "    y9 = X[j][1][126]\n",
    "    y10 = X[j][1][127]\n",
    "    res.append(y9)    \n",
    "    res.append(y10)"
   ]
  },
  {
   "cell_type": "code",
   "execution_count": null,
   "metadata": {},
   "outputs": [],
   "source": []
  }
 ],
 "metadata": {
  "kernelspec": {
   "display_name": "Python 3",
   "language": "python",
   "name": "python3"
  },
  "language_info": {
   "codemirror_mode": {
    "name": "ipython",
    "version": 3
   },
   "file_extension": ".py",
   "mimetype": "text/x-python",
   "name": "python",
   "nbconvert_exporter": "python",
   "pygments_lexer": "ipython3",
   "version": "3.7.4"
  }
 },
 "nbformat": 4,
 "nbformat_minor": 2
}
