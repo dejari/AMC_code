{
 "cells": [
  {
   "cell_type": "code",
   "execution_count": 1,
   "metadata": {},
   "outputs": [
    {
     "name": "stdout",
     "output_type": "stream",
     "text": [
      "Found GPU at: /device:GPU:0\n"
     ]
    }
   ],
   "source": [
    "# GPU TEST\n",
    "\n",
    "import tensorflow as tf\n",
    "device_name = tf.test.gpu_device_name()\n",
    "if device_name != '/device:GPU:0':\n",
    "    raise SystemError('GPU device not found')\n",
    "print('Found GPU at: {}'.format(device_name))    "
   ]
  },
  {
   "cell_type": "code",
   "execution_count": 2,
   "metadata": {},
   "outputs": [
    {
     "name": "stderr",
     "output_type": "stream",
     "text": [
      "Using TensorFlow backend.\n"
     ]
    }
   ],
   "source": [
    "# Importing libraries\n",
    "import keras\n",
    "from keras.models import Sequential\n",
    "from keras.layers import Dense\n",
    "\n",
    "import pickle\n",
    "import gzip\n",
    "import numpy as np\n",
    "import pandas as pd"
   ]
  },
  {
   "cell_type": "code",
   "execution_count": 3,
   "metadata": {},
   "outputs": [],
   "source": [
    "# Loading Dataset\n",
    "\n",
    "with open('2016.04C.multisnr.pkl','rb') as f:\n",
    "    u = pickle._Unpickler(f)\n",
    "    u.encoding = 'latin1'\n",
    "    p = u.load()"
   ]
  },
  {
   "cell_type": "code",
   "execution_count": 4,
   "metadata": {},
   "outputs": [
    {
     "name": "stdout",
     "output_type": "stream",
     "text": [
      "(162060, 2, 128)\n",
      "One Sample : \n",
      "[[  -7.4243298   119.80825    -111.365616    -27.864609     49.59459\n",
      "   -92.436195    -14.834814    -65.57745      99.30878    -140.20377\n",
      "    -7.095288    160.27892     -29.569017    -46.14379     -83.981865\n",
      "   155.57481      77.53324      21.80493     -48.08874      13.995204\n",
      "    -9.42498     -77.13045      64.35481      51.588314    -10.118018\n",
      "    59.934288     -8.07665     160.57787     -12.06533     -14.046684\n",
      "     0.2559035   -34.061638    -62.329285    -37.375217    -20.721237\n",
      "    35.750698     67.44018     -27.084063   -133.1575       20.650501\n",
      "   -93.111984     46.712215     -7.806255    -56.23203      13.049609\n",
      "    88.614685     15.365943     25.646896     68.06521    -167.36864\n",
      "    65.36609     104.336044     40.968483     -2.8799818   -73.3598\n",
      "    60.49153      66.64653     -50.082237    -26.81676      94.32984\n",
      "   -59.568474     47.776936    -18.414425      2.6127734   140.26158\n",
      "   -55.305504     91.71414      35.363003     26.607727    -21.20901\n",
      "   -14.127247    -28.758183     52.048164     51.383488     39.377056\n",
      "  -123.89717      19.898214      6.247001     -7.23002    -129.59628\n",
      "    16.787441    -41.65105    -113.62081    -111.220764     75.4343\n",
      "    98.33584    -186.30652     -35.151043     -5.860277     11.016558\n",
      "   -30.569672      5.82972     -25.169289    -97.849945     27.576393\n",
      "   -74.62176      -2.4715657   -32.191856    -30.262772     27.43603\n",
      "   -12.282553    115.40876     206.4914       66.09195     -39.44139\n",
      "   141.64667     -86.9948      153.09734       9.337864    -11.083323\n",
      "    89.42813      41.226925     98.67345      65.46181      40.510544\n",
      "     9.7420635  -114.9896       59.91208     -71.21897     140.01804\n",
      "    68.525      -104.4119       82.68575       9.652107    -29.561686\n",
      "   -31.315722   -113.13201      40.65939   ]\n",
      " [ 167.00078     -21.273016     38.65764      -6.8282866   -57.695274\n",
      "    68.86412     107.330345     47.552097     29.709524    -39.23092\n",
      "    12.462088     -9.949671      7.4783106    18.972824    -12.808772\n",
      "    67.633316    -29.103151    -20.070566    -51.97744     141.00816\n",
      "    41.259205     -0.53856903    6.6250005   -43.925224     31.103895\n",
      "    53.926334    -49.36656     -20.647512     60.535015     38.67477\n",
      "    20.489979     66.109116     -6.660988   -143.35045      92.50412\n",
      "    12.260289     15.894047    -33.721985      4.958162    -77.55236\n",
      "   -28.78356      17.448458   -156.99731      46.477085     75.3186\n",
      "     5.517721    -28.463383     23.985146     13.697032     32.07361\n",
      "   -84.96232     -27.923908      7.316182    121.537544   -109.41055\n",
      "   -28.545713    196.12985     -19.010529    -24.389406     -6.263572\n",
      "    32.556026    -35.22897     -18.624535     55.108932     12.849184\n",
      "    23.583422     -3.1462991    49.74266      75.69544      34.91256\n",
      "    13.04851      21.796694    -60.853157    -10.895167   -110.862366\n",
      "   -55.53119      74.3123       -4.914749   -134.76338      68.62286\n",
      "   -35.385624     88.85091      72.25108    -114.920105    -36.134083\n",
      "    83.26045    -131.37288     -14.169214     63.75534     -41.43907\n",
      "    42.116547    -52.482567    141.72705     -89.87874      50.627182\n",
      "   -27.974552     40.75792     138.08913     -37.947388     -1.5724033\n",
      "   197.16936       2.0899055    41.80963      72.13531    -121.52855\n",
      "   -71.40363       3.718821     36.73658    -149.26796      -3.4894636\n",
      "    46.83889     -13.115942      5.852566   -134.46341     -13.281191\n",
      "   -80.60315      29.616896    -23.416965      6.471921    -23.06307\n",
      "    57.188274     85.360176    103.64513     -54.7609     -112.23817\n",
      "  -115.24621     -80.3968       48.018898  ]]\n"
     ]
    }
   ],
   "source": [
    "snrs,mods = map(lambda j: sorted(list(set(map(lambda x: x[j], p.keys())))), [1,0])\n",
    "X = []\n",
    "lbl = []\n",
    "for mod in mods:\n",
    "    for snr in snrs:\n",
    "        X.append(p[mod,snr])\n",
    "        for i in range(p[(mod,snr)].shape[0]): lbl.append((mod,snr))\n",
    "X = np.vstack(X)\n",
    "print(X.shape)\n",
    "print('One Sample : ')\n",
    "print(X[1])"
   ]
  },
  {
   "cell_type": "code",
   "execution_count": 5,
   "metadata": {},
   "outputs": [
    {
     "name": "stdout",
     "output_type": "stream",
     "text": [
      "           0    1                                                  2\n",
      "0       8PSK  -20  [[24.714563, -29.568644, 92.68012, -0.6211241,...\n",
      "1       8PSK  -20  [[-7.4243298, 119.80825, -111.365616, -27.8646...\n",
      "2       8PSK  -20  [[140.26158, -55.305504, 91.71414, 35.363003, ...\n",
      "3       8PSK  -20  [[59.466553, -58.749474, -63.58964, 109.952866...\n",
      "4       8PSK  -20  [[-18.136866, -86.98702, 2.8082519, -72.49883,...\n",
      "...      ...  ...                                                ...\n",
      "162055  WBFM   18  [[-0.4857278, -0.507521, -0.5296707, -0.518121...\n",
      "162056  WBFM   18  [[-0.4470213, -0.43725014, -0.43090314, -0.432...\n",
      "162057  WBFM   18  [[-0.7416414, -0.7185424, -0.689575, -0.695628...\n",
      "162058  WBFM   18  [[-0.6813814, -0.69127196, -0.6815096, -0.6873...\n",
      "162059  WBFM   18  [[-0.6809907, -0.7188972, -0.6984149, -0.69268...\n",
      "\n",
      "[162060 rows x 3 columns]\n"
     ]
    }
   ],
   "source": [
    "label=[]\n",
    "mod=[]\n",
    "data=[]\n",
    "for i in range(len(lbl)):\n",
    "        label.append(lbl[i][0])\n",
    "        mod.append(lbl[i][1])\n",
    "        data.append(X[i])\n",
    "\n",
    "data=pd.DataFrame([label,mod,data])\n",
    "dataset = data.T\n",
    "print(dataset)"
   ]
  },
  {
   "cell_type": "code",
   "execution_count": 59,
   "metadata": {
    "scrolled": true
   },
   "outputs": [
    {
     "name": "stdout",
     "output_type": "stream",
     "text": [
      "[[ 0.989575    0.5703667   0.16162683 -0.28917682 -0.71643424 -1.0735551\n",
      "  -1.3033473  -1.3748673  -1.2448379  -0.9681887  -0.561358   -0.04059163\n",
      "   0.47603717  0.92040986  1.2493222   1.3726319   1.3075697   1.0386903\n",
      "   0.6337848   0.14694242 -0.35376114 -0.7756265  -1.091088   -1.2347617\n",
      "  -1.2333423  -1.0671465  -0.7715808  -0.45875552 -0.12488539  0.12819946\n",
      "   0.29448995  0.36661804  0.3073151   0.17660724 -0.01693834 -0.2514541\n",
      "  -0.45013905 -0.6511107  -0.8391939  -0.95370084 -1.0880622  -1.1767658\n",
      "  -1.2884711  -1.3491087  -1.393898   -1.3560536  -1.2335358  -1.0263214\n",
      "  -0.68934095 -0.2743105   0.1567146   0.654931    1.0678619   1.3884557\n",
      "   1.557278    1.5057547   1.226316    0.8192926   0.25802797 -0.36693445\n",
      "  -0.9708364  -1.4670883  -1.7458634  -1.8082287  -1.6704122  -1.3077353\n",
      "  -0.77989465 -0.18760425  0.37038618  0.90578735  1.2719139   1.4892753\n",
      "   1.4878868   1.3301488   1.0339787   0.71048164  0.3948803   0.12882204\n",
      "  -0.00767418 -0.04295065  0.10342818  0.2964733   0.5873884   0.8975631\n",
      "   1.1426474   1.3445159   1.4149383   1.4151895   1.253003    1.0123088\n",
      "   0.7554038   0.4935383   0.26550227  0.12219033  0.04046625  0.12142505\n",
      "   0.27104244  0.4880927   0.7493796   1.0479692   1.3189461   1.532135\n",
      "   1.6868862   1.79427     1.7995118   1.7268296   1.6191593   1.4841409\n",
      "   1.3229784   1.1483837   0.99007547  0.8552984   0.7521462   0.6462681\n",
      "   0.55308926  0.46951723  0.34356895  0.18650652  0.03756809 -0.161166\n",
      "  -0.378841   -0.638436   -0.9121417  -1.1145319  -1.2959715  -1.4302372\n",
      "  -1.4365939  -1.3605942 ]\n",
      " [-0.49361634 -0.14248069  0.24600264  0.60680723  0.90854454  1.0975246\n",
      "   1.1269944   1.0500746   0.8330142   0.4993212   0.12502374 -0.26275468\n",
      "  -0.6350051  -0.89655006 -1.0943692  -1.1699827  -1.1629559  -1.0955726\n",
      "  -1.0166922  -0.9455432  -0.89192593 -0.8728672  -0.929921   -1.0607164\n",
      "  -1.19948    -1.380056   -1.5102733  -1.6088598  -1.7056453  -1.7151624\n",
      "  -1.6945668  -1.6078774  -1.5093802  -1.4087318  -1.3131177  -1.2189261\n",
      "  -1.1520474  -1.1336534  -1.1083676  -1.1077213  -1.1139399  -1.1206032\n",
      "  -1.1456972  -1.1758057  -1.1803052  -1.2077174  -1.280831   -1.3318356\n",
      "  -1.4279267  -1.4654839  -1.4972084  -1.4731134  -1.4041957  -1.2971236\n",
      "  -1.109651   -0.90103436 -0.6719728  -0.41281554 -0.19891019 -0.07123525\n",
      "   0.04058699  0.03972832 -0.02635409 -0.16793567 -0.3084856  -0.49985304\n",
      "  -0.67055243 -0.84964085 -0.9528069  -1.0367256  -1.0694438  -1.0998387\n",
      "  -1.1234775  -1.1275203  -1.1568816  -1.2214497  -1.3300854  -1.400932\n",
      "  -1.469755   -1.537204   -1.5431155  -1.5161237  -1.4332404  -1.3206505\n",
      "  -1.1917559  -1.033012   -0.93212366 -0.9043059  -0.877951   -0.95400673\n",
      "  -1.0681753  -1.2040671  -1.3593667  -1.4916819  -1.5893502  -1.6019388\n",
      "  -1.5439728  -1.3904786  -1.1609616  -0.8952221  -0.57991266 -0.27559608\n",
      "   0.01713211  0.26598185  0.50594646  0.66114676  0.82760733  0.94760126\n",
      "   1.0479952   1.128728    1.2057436   1.2969933   1.377859    1.4530869\n",
      "   1.5020763   1.5189856   1.5460263   1.5640105   1.5820807   1.5997027\n",
      "   1.6173409   1.6144494   1.615128    1.5680346   1.5357435   1.4231519\n",
      "   1.1945419   0.91850895]]\n",
      "(162060, 2, 128)\n",
      "18\n"
     ]
    },
    {
     "data": {
      "text/plain": [
       "<matplotlib.legend.Legend at 0x20b2fb4fd88>"
      ]
     },
     "execution_count": 59,
     "metadata": {},
     "output_type": "execute_result"
    },
    {
     "data": {
      "image/png": "[encoded data removed]",
      "text/plain": [
       "<Figure size 216x216 with 1 Axes>"
      ]
     },
     "metadata": {},
     "output_type": "display_data"
    }
   ],
   "source": [
    "m = 7900\n",
    "X1 = dataset.iat[m,2]\n",
    "print(X1)\n",
    "X1 = X1.flatten()\n",
    "print(X.shape)\n",
    "\n",
    "import matplotlib.pyplot as plt\n",
    "import seaborn as sns\n",
    "sns.set()\n",
    "# visualizing the results\n",
    "plt.figure(figsize=(3,3))\n",
    "plt.plot(X1[1:129], color = 'blue', label = 'I')\n",
    "plt.plot(X1[129:256], color = 'green', label = 'Q')\n",
    "plt.title(label[m])\n",
    "print(mod[m])\n",
    "plt.legend()"
   ]
  },
  {
   "cell_type": "code",
   "execution_count": null,
   "metadata": {},
   "outputs": [],
   "source": []
  }
 ],
 "metadata": {
  "kernelspec": {
   "display_name": "Python 3",
   "language": "python",
   "name": "python3"
  },
  "language_info": {
   "codemirror_mode": {
    "name": "ipython",
    "version": 3
   },
   "file_extension": ".py",
   "mimetype": "text/x-python",
   "name": "python",
   "nbconvert_exporter": "python",
   "pygments_lexer": "ipython3",
   "version": "3.7.4"
  }
 },
 "nbformat": 4,
 "nbformat_minor": 2
}
