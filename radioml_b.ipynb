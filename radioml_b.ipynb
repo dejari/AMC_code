{
 "cells": [
  {
   "cell_type": "code",
   "execution_count": 2,
   "metadata": {},
   "outputs": [
    {
     "name": "stdout",
     "output_type": "stream",
     "text": [
      "Found GPU at: /device:GPU:0\n"
     ]
    }
   ],
   "source": [
    "# GPU TEST\n",
    "\n",
    "import tensorflow as tf\n",
    "device_name = tf.test.gpu_device_name()\n",
    "if device_name != '/device:GPU:0':\n",
    "    raise SystemError('GPU device not found')\n",
    "print('Found GPU at: {}'.format(device_name))    "
   ]
  },
  {
   "cell_type": "code",
   "execution_count": 3,
   "metadata": {},
   "outputs": [
    {
     "name": "stderr",
     "output_type": "stream",
     "text": [
      "Using TensorFlow backend.\n"
     ]
    }
   ],
   "source": [
    "# Importing libraries\n",
    "import keras\n",
    "from keras.models import Sequential\n",
    "from keras.layers import Dense\n",
    "\n",
    "import pickle\n",
    "import gzip\n",
    "import numpy as np\n",
    "import pandas as pd"
   ]
  },
  {
   "cell_type": "code",
   "execution_count": 4,
   "metadata": {},
   "outputs": [],
   "source": [
    "# Loading Dataset\n",
    "\n",
    "with open('RML2016.10b.dat','rb') as f:\n",
    "    u = pickle._Unpickler(f)\n",
    "    u.encoding = 'latin1'\n",
    "    p = u.load()"
   ]
  },
  {
   "cell_type": "code",
   "execution_count": 5,
   "metadata": {},
   "outputs": [
    {
     "name": "stdout",
     "output_type": "stream",
     "text": [
      "(1200000, 2, 128)\n",
      "One Sample : \n",
      "[[-4.19708574e-03 -1.05328131e-02 -6.80017332e-03 -9.91973188e-03\n",
      "  -1.03938682e-02  7.35921273e-03 -5.79270255e-03  8.75316327e-04\n",
      "   5.74485445e-03  3.80687695e-03  4.48161503e-03  2.23256741e-03\n",
      "  -5.08088525e-03  1.14897033e-02  3.69756296e-03 -3.73764057e-03\n",
      "   8.45446717e-03  1.06125823e-04  3.77813447e-03 -9.91978013e-05\n",
      "   4.88965027e-03 -1.20170210e-02 -7.52351992e-03 -4.15276550e-03\n",
      "  -6.09601848e-04 -7.63792731e-03  1.80396833e-03 -4.27807216e-03\n",
      "  -6.04987657e-03 -4.59751755e-05 -2.64867861e-03 -7.26473983e-03\n",
      "  -7.43488828e-03 -6.65675325e-04  9.14319977e-03 -2.39192718e-03\n",
      "   1.03462160e-04 -2.56249658e-03 -1.09164175e-02  5.64304087e-03\n",
      "  -5.38121350e-03  5.24967397e-03  6.68406626e-03  5.84752206e-03\n",
      "  -7.79488217e-03  3.29229305e-03 -3.62416543e-03 -5.62080089e-03\n",
      "  -3.07036750e-03  1.65742426e-03 -6.43748150e-04 -6.47912035e-03\n",
      "   3.29789333e-03  1.00365262e-02  3.98667529e-04 -9.42931324e-03\n",
      "   2.35072733e-03  1.36975560e-03  8.00923072e-03 -2.66869599e-03\n",
      "  -1.01357521e-02  1.73493440e-03  1.88103912e-03 -2.31239572e-03\n",
      "  -8.40623863e-04  7.56478403e-03  3.84028628e-03 -1.60231066e-04\n",
      "  -1.46015175e-03 -8.33561830e-03  5.35496743e-03  5.21677453e-03\n",
      "  -2.45119422e-03 -6.64365711e-03 -3.91136995e-03 -3.20252916e-03\n",
      "  -3.43443756e-03  3.94292362e-03  2.12128111e-03  3.21809901e-03\n",
      "  -2.87900050e-03 -1.53603591e-03 -1.19170975e-02  6.75323652e-03\n",
      "   4.71079285e-04  2.52697966e-03 -5.01920423e-03 -1.48838973e-02\n",
      "   5.43567119e-03  8.04295577e-03  8.43846705e-03 -1.72552268e-03\n",
      "   6.93837693e-03  3.16909724e-03 -7.82711618e-03 -8.81207827e-03\n",
      "   4.49741958e-03  5.67229837e-03  5.11354161e-03 -9.33805760e-03\n",
      "   9.32453852e-03 -4.75939969e-03  4.79361275e-03  1.58824434e-03\n",
      "  -2.54384562e-04 -3.80214653e-04  2.40344554e-03 -3.46630486e-03\n",
      "   3.92703619e-03 -4.64360323e-03 -5.06119756e-03 -2.88216234e-03\n",
      "   3.70065495e-03 -2.40726396e-03 -4.69569396e-03 -4.53840336e-03\n",
      "   7.07063824e-03  3.37481592e-03 -7.26033980e-03 -1.23112388e-02\n",
      "   1.47815363e-03 -5.15491934e-03  1.47886609e-03 -4.19486454e-03\n",
      "   1.24212878e-03 -9.01077222e-03 -2.63061118e-03 -5.19593759e-03]\n",
      " [ 8.94329883e-03 -9.66050569e-03  1.01369177e-03  5.01447311e-03\n",
      "  -6.12947391e-03 -3.22052184e-03  9.97133180e-03 -8.90217256e-04\n",
      "  -1.22933788e-03 -6.83352165e-03  5.77503210e-03  8.51491001e-03\n",
      "   5.48827136e-03 -9.53923620e-04  1.44830579e-03 -1.72852515e-03\n",
      "  -9.98175470e-04  4.84936731e-03 -1.01504587e-02  1.58701709e-03\n",
      "  -1.07747735e-02  5.17164648e-04 -3.02845100e-03 -7.23630190e-03\n",
      "   2.13608309e-03  4.46905475e-03 -7.04282837e-04 -6.74333144e-03\n",
      "  -5.96053433e-04  1.05154691e-02 -2.40091444e-03  1.54803449e-03\n",
      "   9.30169690e-03 -7.05794990e-03  6.42565126e-03  1.61154894e-03\n",
      "   7.89601007e-04  7.14801624e-03  2.25671218e-03  1.28613217e-02\n",
      "   3.13152885e-03  7.08303973e-03 -1.01325046e-02 -2.96738232e-03\n",
      "   9.74069466e-04 -1.51596032e-03  5.96220512e-03 -3.64765967e-03\n",
      "  -6.50795829e-03  1.76189246e-03  7.57338421e-04 -7.55329756e-03\n",
      "   1.16603188e-02 -1.89946441e-03  9.17724799e-03  2.19868217e-03\n",
      "   1.13771716e-03  8.21695104e-03 -5.41919935e-03 -1.02526974e-02\n",
      "   9.48087138e-04  7.59366481e-03  1.67348387e-03  1.05042784e-02\n",
      "   6.32613664e-03  4.60985675e-03 -6.34162789e-05 -1.07607655e-02\n",
      "   2.90167774e-03 -1.03545561e-03 -4.83705942e-03  1.33867026e-03\n",
      "   8.86132102e-03  3.36123258e-03 -1.04117300e-03 -9.16598830e-03\n",
      "  -1.56912906e-03 -3.11760209e-03 -1.02048768e-02 -1.69962458e-03\n",
      "  -6.58341963e-03 -7.45742349e-03 -7.43764360e-03 -3.16799991e-03\n",
      "   5.53659520e-05 -8.71223456e-05  1.61993448e-02  5.23957936e-03\n",
      "   9.39081609e-03  1.10724277e-03  8.51837220e-04 -6.34007528e-03\n",
      "  -2.72747781e-03  3.77163920e-03  5.46632195e-03  8.90562311e-03\n",
      "  -2.11644941e-03  2.06400640e-03 -4.21979977e-03 -9.51160397e-03\n",
      "  -1.01864366e-02 -3.50202248e-03  1.05620939e-02  1.47284288e-02\n",
      "   1.38407119e-03 -4.36181342e-03  6.99489750e-03 -1.01594366e-02\n",
      "  -2.37023714e-03  5.46413241e-03  1.16948504e-02 -1.38686402e-02\n",
      "   1.17594087e-02  4.24713269e-03 -4.49319510e-03  6.13140501e-03\n",
      "  -2.13858701e-04  4.73580137e-03 -2.77859345e-03  5.66182658e-04\n",
      "   4.35629161e-03  3.33459233e-03 -1.15985079e-02 -6.75555086e-03\n",
      "   1.09309878e-03  1.62549096e-03 -1.18617085e-03  5.61699644e-03]]\n"
     ]
    }
   ],
   "source": [
    "snrs,mods = map(lambda j: sorted(list(set(map(lambda x: x[j], p.keys())))), [1,0])\n",
    "X = []\n",
    "lbl = []\n",
    "for mod in mods:\n",
    "    for snr in snrs:\n",
    "        X.append(p[mod,snr])\n",
    "        for i in range(p[(mod,snr)].shape[0]): lbl.append((mod,snr))\n",
    "X = np.vstack(X)\n",
    "print(X.shape)\n",
    "print('One Sample : ')\n",
    "print(X[1])"
   ]
  },
  {
   "cell_type": "code",
   "execution_count": 6,
   "metadata": {},
   "outputs": [
    {
     "data": {
      "text/plain": [
       "array([[[ 0.00907056,  0.00599482, -0.0035653 , ..., -0.00235585,\n",
       "         -0.0008447 ,  0.00397915],\n",
       "        [-0.0005109 ,  0.00754676,  0.00611815, ..., -0.00607358,\n",
       "         -0.0072575 , -0.00728448]],\n",
       "\n",
       "       [[-0.00419709, -0.01053281, -0.00680017, ..., -0.00901077,\n",
       "         -0.00263061, -0.00519594],\n",
       "        [ 0.0089433 , -0.00966051,  0.00101369, ...,  0.00162549,\n",
       "         -0.00118617,  0.005617  ]],\n",
       "\n",
       "       [[ 0.00174664, -0.0084256 ,  0.00147178, ..., -0.00643154,\n",
       "          0.00503035,  0.02152551],\n",
       "        [-0.00100279, -0.00339724, -0.00072322, ...,  0.00198796,\n",
       "         -0.00023271,  0.00323295]],\n",
       "\n",
       "       ...,\n",
       "\n",
       "       [[ 0.0027236 ,  0.00265014,  0.00258855, ...,  0.00280217,\n",
       "          0.00278396,  0.00279103],\n",
       "        [-0.00729888, -0.00731881, -0.00735847, ..., -0.00736364,\n",
       "         -0.00733167, -0.00727415]],\n",
       "\n",
       "       [[ 0.00396798,  0.00391821,  0.00399417, ...,  0.00398769,\n",
       "          0.00400097,  0.00397493],\n",
       "        [-0.0067528 , -0.00674574, -0.00678544, ..., -0.00657877,\n",
       "         -0.00664485, -0.00665402]],\n",
       "\n",
       "       [[ 0.00492854,  0.00492476,  0.00497359, ...,  0.00499452,\n",
       "          0.00501002,  0.00498357],\n",
       "        [-0.00602421, -0.00607515, -0.00603972, ..., -0.00614814,\n",
       "         -0.00601163, -0.0059941 ]]], dtype=float32)"
      ]
     },
     "execution_count": 6,
     "metadata": {},
     "output_type": "execute_result"
    }
   ],
   "source": [
    "X"
   ]
  },
  {
   "cell_type": "code",
   "execution_count": 7,
   "metadata": {},
   "outputs": [
    {
     "name": "stdout",
     "output_type": "stream",
     "text": [
      "keys:\n",
      "dict_keys([('QPSK', 2), ('PAM4', 8), ('AM-DSB', -4), ('GFSK', 6), ('QAM64', 8), ('PAM4', 18), ('QAM64', -6), ('QAM16', 2), ('QAM16', -20), ('8PSK', -18), ('PAM4', -6), ('WBFM', -18), ('BPSK', 8), ('CPFSK', 10), ('WBFM', 6), ('BPSK', 4), ('BPSK', -2), ('QPSK', -20), ('CPFSK', -8), ('QAM64', -20), ('QAM16', 12), ('GFSK', -20), ('CPFSK', 0), ('AM-DSB', 6), ('BPSK', -16), ('QPSK', -6), ('8PSK', -12), ('CPFSK', -18), ('AM-DSB', -18), ('QPSK', 8), ('PAM4', 14), ('WBFM', -8), ('AM-DSB', -10), ('GFSK', 12), ('QAM64', 2), ('8PSK', -10), ('QAM64', -4), ('GFSK', -4), ('AM-DSB', 8), ('PAM4', -16), ('QPSK', -16), ('BPSK', 16), ('WBFM', -14), ('CPFSK', 16), ('WBFM', 0), ('QPSK', 6), ('BPSK', 14), ('AM-DSB', -8), ('GFSK', -10), ('CPFSK', -2), ('QAM16', 8), ('QAM16', 6), ('QAM16', -16), ('QAM64', 18), ('CPFSK', 6), ('BPSK', 0), ('BPSK', -6), ('8PSK', -14), ('CPFSK', -12), ('WBFM', 10), ('BPSK', -20), ('PAM4', 4), ('GFSK', 10), ('QAM16', -6), ('QAM64', 4), ('PAM4', -20), ('8PSK', 10), ('QAM64', -10), ('GFSK', -6), ('AM-DSB', 2), ('PAM4', -10), ('QPSK', -2), ('8PSK', -8), ('8PSK', 0), ('QPSK', 12), ('8PSK', 12), ('AM-DSB', -14), ('GFSK', 0), ('QAM64', 14), ('QAM64', -8), ('QAM16', 0), ('GFSK', -16), ('WBFM', 2), ('PAM4', -4), ('QPSK', -12), ('WBFM', -20), ('CPFSK', 12), ('WBFM', 4), ('BPSK', 10), ('BPSK', -4), ('QPSK', -18), ('CPFSK', -6), ('BPSK', -12), ('8PSK', 16), ('QAM16', 10), ('QAM16', -12), ('WBFM', -6), ('8PSK', -20), ('CPFSK', 2), ('QPSK', 16), ('AM-DSB', 4), ('BPSK', -10), ('WBFM', -4), ('CPFSK', -16), ('WBFM', -16), ('QPSK', 10), ('PAM4', 0), ('AM-DSB', -12), ('GFSK', 14), ('QAM16', -2), ('QAM64', 0), ('WBFM', -10), ('QAM64', -14), ('GFSK', -2), ('AM-DSB', 14), ('PAM4', -14), ('QPSK', -14), ('8PSK', -4), ('CPFSK', 18), ('8PSK', 4), ('QPSK', 0), ('BPSK', 12), ('AM-DSB', -2), ('GFSK', 4), ('QAM64', 10), ('8PSK', 2), ('QAM16', -10), ('PAM4', 16), ('QAM16', 4), ('GFSK', 8), ('QAM16', -18), ('QAM64', 16), ('PAM4', -8), ('WBFM', 16), ('WBFM', 14), ('CPFSK', 8), ('BPSK', 6), ('BPSK', -8), ('CPFSK', -10), ('PAM4', 6), ('QAM64', -18), ('QAM16', 14), ('QAM16', -8), ('PAM4', -18), ('AM-DSB', 18), ('QAM64', -12), ('AM-DSB', 0), ('BPSK', -14), ('QPSK', -8), ('8PSK', -6), ('CPFSK', -20), ('GFSK', 16), ('WBFM', 8), ('QPSK', 14), ('PAM4', 12), ('AM-DSB', -16), ('GFSK', 2), ('BPSK', -18), ('QAM64', 12), ('QAM64', -2), ('8PSK', 14), ('GFSK', -14), ('BPSK', 18), ('PAM4', -2), ('QPSK', -10), ('CPFSK', 14), ('8PSK', 8), ('QPSK', 4), ('AM-DSB', 16), ('AM-DSB', -6), ('CPFSK', -4), ('WBFM', -2), ('8PSK', 18), ('GFSK', 18), ('QAM16', -14), ('AM-DSB', 10), ('WBFM', -12), ('CPFSK', 4), ('QPSK', 18), ('BPSK', 2), ('AM-DSB', -20), ('8PSK', -16), ('CPFSK', -14), ('WBFM', 18), ('PAM4', 2), ('QAM16', 18), ('QAM16', -4), ('QAM64', 6), ('GFSK', -18), ('PAM4', 10), ('QAM64', -16), ('QAM16', 16), ('GFSK', -8), ('AM-DSB', 12), ('PAM4', -12), ('QPSK', -4), ('8PSK', -2), ('GFSK', -12), ('8PSK', 6), ('WBFM', 12)])\n"
     ]
    }
   ],
   "source": [
    "print('keys:')\n",
    "print(p.keys())"
   ]
  },
  {
   "cell_type": "code",
   "execution_count": 8,
   "metadata": {},
   "outputs": [
    {
     "name": "stdout",
     "output_type": "stream",
     "text": [
      "            0    1                                                  2\n",
      "0        8PSK  -20  [[0.009070556, 0.005994823, -0.0035653014, 0.0...\n",
      "1        8PSK  -20  [[-0.0041970857, -0.010532813, -0.0068001733, ...\n",
      "2        8PSK  -20  [[0.0017466361, -0.008425603, 0.0014717841, -0...\n",
      "3        8PSK  -20  [[0.0033529082, -0.0025561908, 0.007650535, 0....\n",
      "4        8PSK  -20  [[-0.00024625435, -0.0023730611, 0.0079680765,...\n",
      "...       ...  ...                                                ...\n",
      "1199995  WBFM   18  [[0.0014084066, 0.001435775, 0.0013789816, 0.0...\n",
      "1199996  WBFM   18  [[0.0019846044, 0.0019507372, 0.0019910156, 0....\n",
      "1199997  WBFM   18  [[0.0027236023, 0.0026501408, 0.002588551, 0.0...\n",
      "1199998  WBFM   18  [[0.0039679757, 0.0039182063, 0.003994166, 0.0...\n",
      "1199999  WBFM   18  [[0.0049285446, 0.0049247583, 0.0049735857, 0....\n",
      "\n",
      "[1200000 rows x 3 columns]\n"
     ]
    }
   ],
   "source": [
    "label=[]\n",
    "mod=[]\n",
    "data=[]\n",
    "for i in range(len(lbl)):\n",
    "        label.append(lbl[i][0])\n",
    "        mod.append(lbl[i][1])\n",
    "        data.append(X[i])\n",
    "\n",
    "data=pd.DataFrame([label,mod,data])\n",
    "dataset = data.T\n",
    "print(dataset)"
   ]
  },
  {
   "cell_type": "code",
   "execution_count": 9,
   "metadata": {},
   "outputs": [
    {
     "name": "stdout",
     "output_type": "stream",
     "text": [
      "(1200000, 2, 128)\n"
     ]
    },
    {
     "data": {
      "text/plain": [
       "<matplotlib.legend.Legend at 0x270611e7c08>"
      ]
     },
     "execution_count": 9,
     "metadata": {},
     "output_type": "execute_result"
    }
   ],
   "source": [
    "X1 = dataset.iat[15280,2]\n",
    "\n",
    "X1 = X1.flatten()\n",
    "print(X.shape)\n",
    "\n",
    "import matplotlib.pyplot as plt\n",
    "# visualizing the results\n",
    "plt.figure(figsize=(3,3))\n",
    "plt.plot(X1[1:129], color = 'red', label = 'Dim-1')\n",
    "plt.plot(X1[129:256], color = 'green', label = 'Dim-2')\n",
    "plt.title(\"Signal energy diagram\")\n",
    "plt.xlabel('Time')\n",
    "plt.ylabel('energy level')\n",
    "plt.legend()"
   ]
  },
  {
   "cell_type": "code",
   "execution_count": 10,
   "metadata": {},
   "outputs": [
    {
     "name": "stdout",
     "output_type": "stream",
     "text": [
      "(1200000, 2, 128)\n"
     ]
    },
    {
     "data": {
      "text/plain": [
       "<matplotlib.legend.Legend at 0x2706127cd08>"
      ]
     },
     "execution_count": 10,
     "metadata": {},
     "output_type": "execute_result"
    },
    {
     "data": {
      "image/png": "[encoded data removed]",
      "text/plain": [
       "<Figure size 216x216 with 1 Axes>"
      ]
     },
     "metadata": {
      "needs_background": "light"
     },
     "output_type": "display_data"
    }
   ],
   "source": [
    "X1 = dataset.iat[14280,2]\n",
    "\n",
    "X1 = X1.flatten()\n",
    "print(X.shape)\n",
    "\n",
    "import matplotlib.pyplot as plt\n",
    "# visualizing the results\n",
    "plt.figure(figsize=(3,3))\n",
    "plt.plot(X1[1:129], color = 'blue', label = 'Dim-1')\n",
    "plt.plot(X1[129:256], color = 'green', label = 'Dim-2')\n",
    "plt.title(\"Signal energy diagram\")\n",
    "plt.xlabel('Time')\n",
    "plt.ylabel('energy level')\n",
    "plt.legend()"
   ]
  },
  {
   "cell_type": "code",
   "execution_count": 11,
   "metadata": {},
   "outputs": [
    {
     "name": "stdout",
     "output_type": "stream",
     "text": [
      "(1200000, 2, 128)\n"
     ]
    },
    {
     "data": {
      "text/plain": [
       "<matplotlib.legend.Legend at 0x270612fefc8>"
      ]
     },
     "execution_count": 11,
     "metadata": {},
     "output_type": "execute_result"
    },
    {
     "data": {
      "image/png": "[encoded data removed]",
      "text/plain": [
       "<Figure size 216x216 with 1 Axes>"
      ]
     },
     "metadata": {
      "needs_background": "light"
     },
     "output_type": "display_data"
    }
   ],
   "source": [
    "X1 = dataset.iat[219990,2]\n",
    "\n",
    "X1 = X1.flatten()\n",
    "print(X.shape)\n",
    "\n",
    "import matplotlib.pyplot as plt\n",
    "# visualizing the results\n",
    "plt.figure(figsize=(3,3))\n",
    "plt.plot(X1[1:129], color = 'blue', label = 'Dim-1')\n",
    "plt.plot(X1[129:256], color = 'green', label = 'Dim-2')\n",
    "plt.title(\"Signal energy diagram\")\n",
    "plt.xlabel('Time')\n",
    "plt.ylabel('energy level')\n",
    "plt.legend()"
   ]
  },
  {
   "cell_type": "code",
   "execution_count": 12,
   "metadata": {},
   "outputs": [
    {
     "name": "stdout",
     "output_type": "stream",
     "text": [
      "shape of all data : \n",
      "(1200000, 2, 128)\n"
     ]
    }
   ],
   "source": [
    "print('shape of all data : ')\n",
    "print(X.shape)"
   ]
  },
  {
   "cell_type": "code",
   "execution_count": 13,
   "metadata": {},
   "outputs": [
    {
     "name": "stdout",
     "output_type": "stream",
     "text": [
      "Same distribution of number of samples as shown : \n",
      "[(6000, 2, 128), (6000, 2, 128), (6000, 2, 128), (6000, 2, 128), (6000, 2, 128), (6000, 2, 128), (6000, 2, 128), (6000, 2, 128), (6000, 2, 128), (6000, 2, 128), (6000, 2, 128), (6000, 2, 128), (6000, 2, 128), (6000, 2, 128), (6000, 2, 128), (6000, 2, 128), (6000, 2, 128), (6000, 2, 128), (6000, 2, 128), (6000, 2, 128)]\n",
      "[(6000, 2, 128), (6000, 2, 128), (6000, 2, 128), (6000, 2, 128), (6000, 2, 128), (6000, 2, 128), (6000, 2, 128), (6000, 2, 128), (6000, 2, 128), (6000, 2, 128), (6000, 2, 128), (6000, 2, 128), (6000, 2, 128), (6000, 2, 128), (6000, 2, 128), (6000, 2, 128), (6000, 2, 128), (6000, 2, 128), (6000, 2, 128), (6000, 2, 128)]\n",
      "[(6000, 2, 128), (6000, 2, 128), (6000, 2, 128), (6000, 2, 128), (6000, 2, 128), (6000, 2, 128), (6000, 2, 128), (6000, 2, 128), (6000, 2, 128), (6000, 2, 128), (6000, 2, 128), (6000, 2, 128), (6000, 2, 128), (6000, 2, 128), (6000, 2, 128), (6000, 2, 128), (6000, 2, 128), (6000, 2, 128), (6000, 2, 128), (6000, 2, 128)]\n"
     ]
    }
   ],
   "source": [
    "shapes = []\n",
    "snrs = []\n",
    "mod_types = []\n",
    "for x in p.keys():\n",
    "    shapes.append(p[x].shape)\n",
    "    snrs.append(x[1])\n",
    "    mod_types.append(x[0])\n",
    "print('Same distribution of number of samples as shown : ')\n",
    "print(sorted(shapes)[0:20])\n",
    "print(sorted(shapes)[20:40])\n",
    "print(sorted(shapes)[40:60])"
   ]
  },
  {
   "cell_type": "code",
   "execution_count": 14,
   "metadata": {},
   "outputs": [
    {
     "name": "stdout",
     "output_type": "stream",
     "text": [
      "same modulation type but different SNRs:\n",
      "(6000, 2, 128)\n",
      "(6000, 2, 128)\n",
      "(6000, 2, 128)\n",
      "(6000, 2, 128)\n",
      "(6000, 2, 128)\n",
      "(6000, 2, 128)\n",
      "(6000, 2, 128)\n",
      "(6000, 2, 128)\n",
      "(6000, 2, 128)\n",
      "(6000, 2, 128)\n",
      "(6000, 2, 128)\n",
      "(6000, 2, 128)\n",
      "(6000, 2, 128)\n",
      "(6000, 2, 128)\n",
      "(6000, 2, 128)\n",
      "(6000, 2, 128)\n",
      "(6000, 2, 128)\n",
      "(6000, 2, 128)\n",
      "(6000, 2, 128)\n",
      "(6000, 2, 128)\n"
     ]
    }
   ],
   "source": [
    "print(\"same modulation type but different SNRs:\")\n",
    "print(p[\"QPSK\",-20].shape)\n",
    "print(p[\"QPSK\",-18].shape)\n",
    "print(p[\"QPSK\",-16].shape)\n",
    "print(p[\"QPSK\",-14].shape)\n",
    "print(p[\"QPSK\",-12].shape)\n",
    "print(p[\"QPSK\",-10].shape)\n",
    "print(p[\"QPSK\",-8].shape)\n",
    "print(p[\"QPSK\",-6].shape)\n",
    "print(p[\"QPSK\",-4].shape)\n",
    "print(p[\"QPSK\",-2].shape)\n",
    "print(p[\"QPSK\",0].shape)\n",
    "print(p[\"QPSK\",2].shape)\n",
    "print(p[\"QPSK\",4].shape)\n",
    "print(p[\"QPSK\",6].shape)\n",
    "print(p[\"QPSK\",8].shape)\n",
    "print(p[\"QPSK\",10].shape)\n",
    "print(p[\"QPSK\",12].shape)\n",
    "print(p[\"QPSK\",14].shape)\n",
    "print(p[\"QPSK\",16].shape)\n",
    "print(p[\"QPSK\",18].shape)"
   ]
  },
  {
   "cell_type": "code",
   "execution_count": 15,
   "metadata": {},
   "outputs": [],
   "source": [
    "import os,random\n",
    "#os.environ[\"KERAS_BACKEND\"] = \"theano\"\n",
    "os.environ[\"KERAS_BACKEND\"] = \"tensorflow\"\n",
    "#os.environ[\"THEANO_FLAGS\"]  = \"device=cuda,floatX=float32\"\n",
    "import numpy as np\n",
    "from keras.utils import np_utils\n",
    "import keras.models as models\n",
    "from keras.layers.core import Reshape,Dense,Dropout,Activation,Flatten\n",
    "from keras.layers.noise import GaussianNoise\n",
    "from keras.layers.convolutional import Conv2D, MaxPooling2D, ZeroPadding2D, SeparableConv2D\n",
    "from keras.regularizers import *\n",
    "from keras.optimizers import adam\n",
    "import matplotlib.pyplot as plt\n",
    "import seaborn as sns\n",
    "import pickle, random, sys, keras"
   ]
  },
  {
   "cell_type": "code",
   "execution_count": 16,
   "metadata": {},
   "outputs": [],
   "source": [
    "\n",
    "# Partition the data\n",
    "#  into training and test sets of the form we can train/test on \n",
    "#  while keeping SNR and Mod labels handy for each\n",
    "np.random.seed(2010)\n",
    "n_examples = X.shape[0]\n",
    "n_train = n_examples * 0.8\n",
    "train_idx = np.random.choice(range(0,n_examples), size= int(n_train), replace=False)\n",
    "test_idx = list(set(range(0,n_examples))-set(train_idx))\n",
    "#changed from x to combined data\n",
    "#X_train = combined_Data[train_idx]\n",
    "#X_test =  combined_Data[test_idx]\n",
    "X_train = X[train_idx]\n",
    "X_test =  X[test_idx]"
   ]
  },
  {
   "cell_type": "code",
   "execution_count": 17,
   "metadata": {},
   "outputs": [],
   "source": [
    "def to_onehot(yy):\n",
    "    yy1 = np.zeros([len(yy), max(yy)+1])\n",
    "    yy1[np.arange(len(yy)),yy] = 1\n",
    "    return yy1 \n",
    "Y_train = to_onehot(list(map(lambda x: mods.index(lbl[x][0]), train_idx)))\n",
    "Y_test = to_onehot(list(map(lambda x: mods.index(lbl[x][0]), test_idx)))"
   ]
  },
  {
   "cell_type": "code",
   "execution_count": 18,
   "metadata": {},
   "outputs": [
    {
     "name": "stdout",
     "output_type": "stream",
     "text": [
      "(960000, 2, 128) [2, 128]\n"
     ]
    }
   ],
   "source": [
    "in_shp = list(X_train.shape[1:])\n",
    "print (X_train.shape, in_shp)\n",
    "classes = mods"
   ]
  },
  {
   "cell_type": "code",
   "execution_count": 19,
   "metadata": {},
   "outputs": [],
   "source": [
    "# Set up some params\n",
    "nb_epoch = 100 # number of epochs to train on\n",
    "batch_size = 500 # training batch size"
   ]
  },
  {
   "cell_type": "code",
   "execution_count": 20,
   "metadata": {},
   "outputs": [
    {
     "name": "stdout",
     "output_type": "stream",
     "text": [
      "Model: \"sequential_1\"\n",
      "_________________________________________________________________\n",
      "Layer (type)                 Output Shape              Param #   \n",
      "=================================================================\n",
      "reshape_1 (Reshape)          (None, 2, 128, 1)         0         \n",
      "_________________________________________________________________\n",
      "zero_padding2d_1 (ZeroPaddin (None, 2, 132, 1)         0         \n",
      "_________________________________________________________________\n",
      "conv1 (Conv2D)               (None, 2, 128, 256)       1536      \n",
      "_________________________________________________________________\n",
      "dropout_1 (Dropout)          (None, 2, 128, 256)       0         \n",
      "_________________________________________________________________\n",
      "zero_padding2d_2 (ZeroPaddin (None, 2, 132, 256)       0         \n",
      "_________________________________________________________________\n",
      "conv2 (Conv2D)               (None, 2, 130, 96)        73824     \n",
      "_________________________________________________________________\n",
      "dropout_2 (Dropout)          (None, 2, 130, 96)        0         \n",
      "_________________________________________________________________\n",
      "conv3 (Conv2D)               (None, 1, 100, 64)        380992    \n",
      "_________________________________________________________________\n",
      "dropout_3 (Dropout)          (None, 1, 100, 64)        0         \n",
      "_________________________________________________________________\n",
      "conv4 (Conv2D)               (None, 1, 50, 32)         104480    \n",
      "_________________________________________________________________\n",
      "dropout_4 (Dropout)          (None, 1, 50, 32)         0         \n",
      "_________________________________________________________________\n",
      "flatten_1 (Flatten)          (None, 1600)              0         \n",
      "_________________________________________________________________\n",
      "dense_1 (Dense)              (None, 1024)              1639424   \n",
      "_________________________________________________________________\n",
      "dense_2 (Dense)              (None, 256)               262400    \n",
      "_________________________________________________________________\n",
      "dense_3 (Dense)              (None, 64)                16448     \n",
      "_________________________________________________________________\n",
      "dense_4 (Dense)              (None, 10)                650       \n",
      "_________________________________________________________________\n",
      "activation_1 (Activation)    (None, 10)                0         \n",
      "_________________________________________________________________\n",
      "reshape_2 (Reshape)          (None, 10)                0         \n",
      "=================================================================\n",
      "Total params: 2,479,754\n",
      "Trainable params: 2,479,754\n",
      "Non-trainable params: 0\n",
      "_________________________________________________________________\n",
      "None\n"
     ]
    }
   ],
   "source": [
    "import keras.models as models\n",
    "# Build VT-CNN2 Neural Net model using Keras primitives --\n",
    "# - Reshape [N,2,128] to [N,1,2,128] on input\n",
    "# - Pass through 2 2DConv/ReLu layers\n",
    "# - Pass through 2 Dense layers (ReLu and Softmax)\n",
    "# - Perform categorical cross entropy optimization\n",
    "drop_rate = 0.2 # dropout rate (%)\n",
    "cnn = keras.models.Sequential()\n",
    "cnn.add(Reshape(in_shp+[1], input_shape=in_shp))\n",
    "\n",
    "cnn.add(ZeroPadding2D((0, 2)))\n",
    "cnn.add(Conv2D(256, (1, 5),padding='valid', activation=\"relu\", name=\"conv1\",kernel_initializer='glorot_uniform',data_format=\"channels_last\"))\n",
    "cnn.add(Dropout(drop_rate))\n",
    "\n",
    "cnn.add(ZeroPadding2D((0,2)))\n",
    "cnn.add(Conv2D(96,(1, 3), padding='valid', activation=\"relu\", name=\"conv2\", kernel_initializer='glorot_uniform',data_format=\"channels_last\"))\n",
    "cnn.add(Dropout(drop_rate))\n",
    "\n",
    "cnn.add(Conv2D(64,(2,31), padding='valid', activation=\"relu\", name=\"conv3\", kernel_initializer='glorot_uniform',data_format=\"channels_last\"))\n",
    "cnn.add(Dropout(drop_rate))\n",
    "\n",
    "cnn.add(Conv2D(32,(1,51), padding='valid', activation=\"relu\", name=\"conv4\", kernel_initializer='glorot_uniform',data_format=\"channels_last\"))\n",
    "cnn.add(Dropout(drop_rate))\n",
    "cnn.add(Flatten())\n",
    "\n",
    "#cnn.add(GaussianNoise(0.0001))\n",
    "\n",
    "cnn.add(Dense(1024, activation = 'relu', kernel_initializer = 'he_normal'))\n",
    "cnn.add(Dense(256, activation = 'relu', kernel_initializer = 'he_normal'))\n",
    "cnn.add(Dense(64, activation = 'relu', kernel_initializer = 'he_normal'))\n",
    "\n",
    "cnn.add(Dense(len(classes), kernel_initializer = 'he_normal'))\n",
    "cnn.add(Activation('softmax'))\n",
    "cnn.add(Reshape([len(classes)]))\n",
    "cnn.compile(loss='categorical_crossentropy', optimizer='adam', metrics=['accuracy'])\n",
    "print(cnn.summary())"
   ]
  },
  {
   "cell_type": "code",
   "execution_count": null,
   "metadata": {},
   "outputs": [],
   "source": [
    "# perform training ...\n",
    "#   - call the main training loop in keras for our network+dataset\n",
    "filepath = 'convmod_SEP_CNN0b01_0.5.wts.h5'\n",
    "HIS = cnn.fit(X_train,\n",
    "    Y_train,\n",
    "    batch_size=batch_size,\n",
    "    epochs=nb_epoch,\n",
    "    verbose=2,\n",
    "     validation_split=0.25,\n",
    "    callbacks = [\n",
    "        keras.callbacks.ModelCheckpoint(filepath, monitor='val_loss', verbose=0, save_best_only=True, mode='auto'),\n",
    "        keras.callbacks.EarlyStopping(monitor='val_loss', patience=10, verbose=0, mode='auto')\n",
    "    ])\n",
    "# we re-load the best weights once training is finished\n",
    "cnn.load_weights(filepath)"
   ]
  },
  {
   "cell_type": "code",
   "execution_count": null,
   "metadata": {},
   "outputs": [],
   "source": [
    "scscore = cnn.evaluate(X_test, Y_test, batch_size=batch_size)\n",
    "print(cnn.metrics_names)\n",
    "print (scscore)"
   ]
  },
  {
   "cell_type": "code",
   "execution_count": null,
   "metadata": {},
   "outputs": [],
   "source": [
    "# Show loss curves \n",
    "plt.figure()\n",
    "plt.title('Training performance')\n",
    "plt.plot(HIS.epoch, HIS.history['loss'], label='train loss+error')\n",
    "plt.plot(HIS.epoch, HIS.history['val_loss'], label='val_error')\n",
    "plt.legend()"
   ]
  },
  {
   "cell_type": "code",
   "execution_count": null,
   "metadata": {},
   "outputs": [],
   "source": [
    "plt.figure()\n",
    "plt.title('Training performance')\n",
    "plt.plot(HIS.epoch, HIS.history['accuracy'], label='train accuracy')\n",
    "plt.plot(HIS.epoch, HIS.history['val_accuracy'], label='val_accuracy')\n",
    "plt.legend()"
   ]
  },
  {
   "cell_type": "code",
   "execution_count": null,
   "metadata": {},
   "outputs": [],
   "source": [
    "def plot_confusion_matrix(cm, title='Confusion matrix', cmap=plt.cm.Reds, labels=[]):\n",
    "    plt.imshow(cm, interpolation='nearest', cmap=cmap)\n",
    "    plt.title(title)\n",
    "    plt.colorbar()\n",
    "    tick_marks = np.arange(len(labels))\n",
    "    plt.xticks(tick_marks, labels, rotation=45)\n",
    "    plt.yticks(tick_marks, labels)\n",
    "    plt.tight_layout()\n",
    "    plt.ylabel('True label')\n",
    "    plt.xlabel('Predicted label')\n",
    "    \n",
    "# Plot confusion matrix\n",
    "test_Y_hat = cnn.predict(X_test, batch_size=batch_size)\n",
    "conf = np.zeros([len(classes),len(classes)])\n",
    "confnorm = np.zeros([len(classes),len(classes)])\n",
    "for i in range(0,X_test.shape[0]):\n",
    "    j = list(Y_test[i,:]).index(1)\n",
    "    k = int(np.argmax(test_Y_hat[i,:]))\n",
    "    conf[j,k] = conf[j,k] + 1\n",
    "for i in range(0,len(classes)):\n",
    "    confnorm[i,:] = conf[i,:] / np.sum(conf[i,:])\n",
    "plot_confusion_matrix(confnorm, labels=classes)\n",
    "# on the right its a color chart to indicate that the darker the color the easier and thee most to identify"
   ]
  },
  {
   "cell_type": "code",
   "execution_count": null,
   "metadata": {},
   "outputs": [],
   "source": [
    "# Plot confusion matrix\n",
    "acc = {}\n",
    "for snr in snrs:\n",
    "\n",
    "    # extract classes @ SNR\n",
    "    test_SNRs = list(map(lambda x: lbl[x][1], test_idx))\n",
    "    test_X_i = X_test[np.where(np.array(test_SNRs)==snr)]\n",
    "    test_Y_i = Y_test[np.where(np.array(test_SNRs)==snr)]    \n",
    "\n",
    "    # estimate classes\n",
    "    test_Y_i_hat = cnn.predict(test_X_i)\n",
    "    conf = np.zeros([len(classes),len(classes)])\n",
    "    confnorm = np.zeros([len(classes),len(classes)])\n",
    "    for i in range(0,test_X_i.shape[0]):\n",
    "        j = list(test_Y_i[i,:]).index(1)\n",
    "        k = int(np.argmax(test_Y_i_hat[i,:]))\n",
    "        conf[j,k] = conf[j,k] + 1\n",
    "    for i in range(0,len(classes)):\n",
    "        confnorm[i,:] = conf[i,:] / np.sum(conf[i,:])\n",
    "    plt.figure()\n",
    "    plot_confusion_matrix(confnorm, labels=classes, title=\"ConvNet Confusion Matrix (SNR=%d)\"%(snr))\n",
    "    \n",
    "    cor = np.sum(np.diag(conf))\n",
    "    ncor = np.sum(conf) - cor\n",
    "    print (\"Overall Accuracy: \", cor / (cor+ncor))\n",
    "    acc[snr] = 1.0*cor/(cor+ncor)"
   ]
  },
  {
   "cell_type": "code",
   "execution_count": null,
   "metadata": {},
   "outputs": [],
   "source": [
    "# Plot accuracy curve\n",
    "plt.plot(snrs, list(map(lambda x: acc[x], snrs)))\n",
    "plt.xlabel(\"Signal to Noise Ratio\")\n",
    "plt.ylabel(\"Classification Accuracy\")\n",
    "plt.title(\"CNN2 Classification Accuracy on RadioML 2016.10 Alpha\")"
   ]
  }
 ],
 "metadata": {
  "kernelspec": {
   "display_name": "Python 3",
   "language": "python",
   "name": "python3"
  },
  "language_info": {
   "codemirror_mode": {
    "name": "ipython",
    "version": 3
   },
   "file_extension": ".py",
   "mimetype": "text/x-python",
   "name": "python",
   "nbconvert_exporter": "python",
   "pygments_lexer": "ipython3",
   "version": "3.7.4"
  }
 },
 "nbformat": 4,
 "nbformat_minor": 2
}
